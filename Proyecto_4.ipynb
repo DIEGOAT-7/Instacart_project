{
 "cells": [
  {
   "cell_type": "markdown",
   "id": "3MbyzpOQZ5Or",
   "metadata": {
    "id": "3MbyzpOQZ5Or"
   },
   "source": [
    "## Diccionario de datos\n",
    "\n",
    "Hay cinco tablas en el conjunto de datos, y tendré que usarlas todas para hacer el preprocesamiento de datos y el análisis exploratorio de datos. A continuación se muestra un diccionario de datos que enumera las columnas de cada tabla y describe los datos que contienen.\n",
    "\n",
    "- `instacart_orders.csv`: cada fila corresponde a un pedido en la aplicación Instacart.\n",
    "    - `'order_id'`: número de ID que identifica de manera única cada pedido.\n",
    "    - `'user_id'`: número de ID que identifica de manera única la cuenta de cada cliente.\n",
    "    - `'order_number'`: el número de veces que este cliente ha hecho un pedido.\n",
    "    - `'order_dow'`: día de la semana en que se hizo el pedido (0 si es domingo).\n",
    "    - `'order_hour_of_day'`: hora del día en que se hizo el pedido.\n",
    "    - `'days_since_prior_order'`: número de días transcurridos desde que este cliente hizo su pedido anterior.\n",
    "- `products.csv`: cada fila corresponde a un producto único que pueden comprar los clientes.\n",
    "    - `'product_id'`: número ID que identifica de manera única cada producto.\n",
    "    - `'product_name'`: nombre del producto.\n",
    "    - `'aisle_id'`: número ID que identifica de manera única cada categoría de pasillo de víveres.\n",
    "    - `'department_id'`: número ID que identifica de manera única cada departamento de víveres.\n",
    "- `order_products.csv`: cada fila corresponde a un artículo pedido en un pedido.\n",
    "    - `'order_id'`: número de ID que identifica de manera única cada pedido.\n",
    "    - `'product_id'`: número ID que identifica de manera única cada producto.\n",
    "    - `'add_to_cart_order'`: el orden secuencial en el que se añadió cada artículo en el carrito.\n",
    "    - `'reordered'`: 0 si el cliente nunca ha pedido este producto antes, 1 si lo ha pedido.\n",
    "- `aisles.csv`\n",
    "    - `'aisle_id'`: número ID que identifica de manera única cada categoría de pasillo de víveres.\n",
    "    - `'aisle'`: nombre del pasillo.\n",
    "- `departments.csv`\n",
    "    - `'department_id'`: número ID que identifica de manera única cada departamento de víveres.\n",
    "    - `'department'`: nombre del departamento."
   ]
  },
  {
   "cell_type": "markdown",
   "id": "n3Ha_cNSZ8lK",
   "metadata": {
    "id": "n3Ha_cNSZ8lK"
   },
   "source": [
    "# Paso 1. Descripción de los datos\n"
   ]
  },
  {
   "cell_type": "code",
   "execution_count": 2,
   "id": "fbf1adab",
   "metadata": {
    "id": "fbf1adab"
   },
   "outputs": [],
   "source": [
    "# importar librerías\n",
    "import pandas as pd\n",
    "import matplotlib.pyplot as plt"
   ]
  },
  {
   "cell_type": "code",
   "execution_count": 3,
   "id": "ad36396d",
   "metadata": {
    "id": "ad36396d"
   },
   "outputs": [],
   "source": [
    "# leer conjuntos de datos en los DataFrames\n",
    "df_orders = pd.read_csv(\"/datasets/instacart_orders.csv\", sep=';')"
   ]
  },
  {
   "cell_type": "code",
   "execution_count": 4,
   "id": "ad6a1efa",
   "metadata": {
    "id": "ad6a1efa"
   },
   "outputs": [],
   "source": [
    "# mostrar información del DataFrame\n",
    "df_products = pd.read_csv(\"/datasets/products.csv\", sep=';')"
   ]
  },
  {
   "cell_type": "code",
   "execution_count": 5,
   "id": "5130e05e",
   "metadata": {
    "id": "5130e05e"
   },
   "outputs": [],
   "source": [
    "# mostrar información del DataFrame\n",
    "df_aisles = pd.read_csv(\"/datasets/aisles.csv\", sep=';')"
   ]
  },
  {
   "cell_type": "code",
   "execution_count": 6,
   "id": "d8370c05",
   "metadata": {
    "id": "d8370c05"
   },
   "outputs": [],
   "source": [
    "# mostrar información del DataFrame\n",
    "df_departments = pd.read_csv(\"/datasets/departments.csv\", sep=';')"
   ]
  },
  {
   "cell_type": "code",
   "execution_count": 7,
   "id": "59e2090f",
   "metadata": {
    "id": "59e2090f"
   },
   "outputs": [],
   "source": [
    "# mostrar información del DataFrame\n",
    "df_order_products = pd.read_csv(\"/datasets/order_products.csv\", sep=';')"
   ]
  },
  {
   "cell_type": "code",
   "execution_count": 8,
   "id": "6fc81694",
   "metadata": {
    "id": "6fc81694"
   },
   "outputs": [
    {
     "name": "stdout",
     "output_type": "stream",
     "text": [
      "Información de df_orders:\n",
      "<class 'pandas.core.frame.DataFrame'>\n",
      "RangeIndex: 478967 entries, 0 to 478966\n",
      "Data columns (total 6 columns):\n",
      " #   Column                  Non-Null Count   Dtype  \n",
      "---  ------                  --------------   -----  \n",
      " 0   order_id                478967 non-null  int64  \n",
      " 1   user_id                 478967 non-null  int64  \n",
      " 2   order_number            478967 non-null  int64  \n",
      " 3   order_dow               478967 non-null  int64  \n",
      " 4   order_hour_of_day       478967 non-null  int64  \n",
      " 5   days_since_prior_order  450148 non-null  float64\n",
      "dtypes: float64(1), int64(5)\n",
      "memory usage: 21.9 MB\n",
      "None\n",
      "\n",
      "Información de df_products:\n",
      "<class 'pandas.core.frame.DataFrame'>\n",
      "RangeIndex: 49694 entries, 0 to 49693\n",
      "Data columns (total 4 columns):\n",
      " #   Column         Non-Null Count  Dtype \n",
      "---  ------         --------------  ----- \n",
      " 0   product_id     49694 non-null  int64 \n",
      " 1   product_name   48436 non-null  object\n",
      " 2   aisle_id       49694 non-null  int64 \n",
      " 3   department_id  49694 non-null  int64 \n",
      "dtypes: int64(3), object(1)\n",
      "memory usage: 1.5+ MB\n",
      "None\n",
      "\n",
      "Información de df_aisles:\n",
      "<class 'pandas.core.frame.DataFrame'>\n",
      "RangeIndex: 134 entries, 0 to 133\n",
      "Data columns (total 2 columns):\n",
      " #   Column    Non-Null Count  Dtype \n",
      "---  ------    --------------  ----- \n",
      " 0   aisle_id  134 non-null    int64 \n",
      " 1   aisle     134 non-null    object\n",
      "dtypes: int64(1), object(1)\n",
      "memory usage: 2.2+ KB\n",
      "None\n",
      "\n",
      "Información de df_departments:\n",
      "<class 'pandas.core.frame.DataFrame'>\n",
      "RangeIndex: 21 entries, 0 to 20\n",
      "Data columns (total 2 columns):\n",
      " #   Column         Non-Null Count  Dtype \n",
      "---  ------         --------------  ----- \n",
      " 0   department_id  21 non-null     int64 \n",
      " 1   department     21 non-null     object\n",
      "dtypes: int64(1), object(1)\n",
      "memory usage: 464.0+ bytes\n",
      "None\n",
      "\n",
      "Información de df_order_products:\n",
      "<class 'pandas.core.frame.DataFrame'>\n",
      "RangeIndex: 4545007 entries, 0 to 4545006\n",
      "Data columns (total 4 columns):\n",
      " #   Column             Non-Null Count    Dtype  \n",
      "---  ------             --------------    -----  \n",
      " 0   order_id           4545007 non-null  int64  \n",
      " 1   product_id         4545007 non-null  int64  \n",
      " 2   add_to_cart_order  4544171 non-null  float64\n",
      " 3   reordered          4545007 non-null  int64  \n",
      "dtypes: float64(1), int64(3)\n",
      "memory usage: 138.7 MB\n",
      "None\n"
     ]
    }
   ],
   "source": [
    "# mostrar información del DataFrame\n",
    "print(\"Información de df_orders:\")\n",
    "print(df_orders.info())\n",
    "print(\"\\nInformación de df_products:\")\n",
    "print(df_products.info())\n",
    "print(\"\\nInformación de df_aisles:\")\n",
    "print(df_aisles.info())\n",
    "print(\"\\nInformación de df_departments:\")\n",
    "print(df_departments.info())\n",
    "print(\"\\nInformación de df_order_products:\")\n",
    "print(df_order_products.info(show_counts=True))"
   ]
  },
  {
   "cell_type": "markdown",
   "id": "t75BD19oaR5f",
   "metadata": {
    "id": "t75BD19oaR5f"
   },
   "source": [
    "## Conclusiones\n",
    "\n",
    "Escribe aquí tus conclusiones intermedias sobre el Paso 1. Descripción de los datos.\n"
   ]
  },
  {
   "cell_type": "markdown",
   "id": "0a89aa97",
   "metadata": {},
   "source": [
    "- Tenemos 5 Dataframes en los cuales tenemos realmente muy pocos valores ausentes, solo en la columna 'days_since_prior_order' del Dataframe instacart_orders.csv y en la columna 'product_name' del Dataframe products.csv\n",
    "\n",
    "- El Dataset order_products.csv es una base de datos muy grande con mas de 4 millones de filas y unos pocos valores ausentes en la columna 'add_to_cart_order'."
   ]
  },
  {
   "cell_type": "markdown",
   "id": "8RJHqxVmaVsF",
   "metadata": {
    "id": "8RJHqxVmaVsF"
   },
   "source": [
    "# Paso 2. Preprocesamiento de los datos\n"
   ]
  },
  {
   "cell_type": "code",
   "execution_count": 9,
   "id": "77013c61",
   "metadata": {},
   "outputs": [],
   "source": [
    "# Verificar y corregir tipos de datos\n",
    "\n",
    "# Asegurar que los IDs sean enteros\n",
    "df_orders[\"order_id\"] = df_orders[\"order_id\"].astype(int)\n",
    "df_products[\"product_id\"] = df_products[\"product_id\"].astype(int)\n",
    "df_aisles[\"aisle_id\"] = df_aisles[\"aisle_id\"].astype(int)\n",
    "df_departments[\"department_id\"] = df_departments[\"department_id\"].astype(int)\n",
    "df_order_products[\"order_id\"] = df_order_products[\"order_id\"].astype(int)\n"
   ]
  },
  {
   "cell_type": "markdown",
   "id": "p6poABZQaZYb",
   "metadata": {
    "id": "p6poABZQaZYb"
   },
   "source": [
    "## Plan de solución\n"
   ]
  },
  {
   "cell_type": "markdown",
   "id": "d243aed6",
   "metadata": {},
   "source": [
    "- Primero me aseguraré de que todas las columnas ID sean numeros enteros procesandolas con .astype(int)\n",
    "\n",
    "- Para los valores ausentes y duplicados usaré funciones para simplificar el procesamiento ya que puede ser un trabajo repetitivo."
   ]
  },
  {
   "cell_type": "markdown",
   "id": "f179f0a9",
   "metadata": {
    "id": "f179f0a9"
   },
   "source": [
    "### `instacart_orders` data frame"
   ]
  },
  {
   "cell_type": "code",
   "execution_count": 10,
   "id": "b99297a5-405a-463d-8535-9adc3da4ad74",
   "metadata": {
    "id": "b99297a5-405a-463d-8535-9adc3da4ad74"
   },
   "outputs": [
    {
     "name": "stdout",
     "output_type": "stream",
     "text": [
      "Número de filas duplicadas en 'instacart_orders': 15\n",
      "\n",
      "Ejemplo de filas duplicadas:\n",
      "        order_id  user_id  order_number  order_dow  order_hour_of_day  \\\n",
      "145574    794638    50898            24          3                  2   \n",
      "223105   2160484   107525            16          3                  2   \n",
      "230807   1918001   188546            14          3                  2   \n",
      "266232   1782114   106752             1          3                  2   \n",
      "273805   1112182   202304            84          3                  2   \n",
      "\n",
      "        days_since_prior_order  \n",
      "145574                     2.0  \n",
      "223105                    30.0  \n",
      "230807                    16.0  \n",
      "266232                     NaN  \n",
      "273805                     6.0  \n"
     ]
    }
   ],
   "source": [
    "# Revisa si hay pedidos duplicados\n",
    "duplicate_rows = df_orders.duplicated().sum()\n",
    "print(f\"Número de filas duplicadas en 'instacart_orders': {duplicate_rows}\")\n",
    "\n",
    "# Inspecciona los valores duplicados\n",
    "duplicated_orders = df_orders[df_orders.duplicated()]\n",
    "print(\"\\nEjemplo de filas duplicadas:\")\n",
    "print(duplicated_orders.head())"
   ]
  },
  {
   "cell_type": "markdown",
   "id": "40f3e288",
   "metadata": {},
   "source": [
    "Hallazgos:\n",
    "\n",
    "Se encontraron 15 filas duplicadas en el data frame instacart_orders.\n",
    "Estas filas representan pedidos que fueron registrados más de una vez con los mismos valores en todas las columnas."
   ]
  },
  {
   "cell_type": "code",
   "execution_count": 11,
   "id": "0d44de5d",
   "metadata": {
    "id": "0d44de5d"
   },
   "outputs": [
    {
     "name": "stdout",
     "output_type": "stream",
     "text": [
      "Número de pedidos realizados el miércoles a las 2:00 a.m.: 121\n",
      "\n",
      "Ejemplo de pedidos realizados el miércoles a las 2:00 a.m.:\n",
      "       order_id  user_id  order_number  order_dow  order_hour_of_day  \\\n",
      "4838    2766110   162084            41          3                  2   \n",
      "5156    2190225   138285            18          3                  2   \n",
      "15506    553049    58599            13          3                  2   \n",
      "18420    382357   120200            19          3                  2   \n",
      "24691    690242    77357             2          3                  2   \n",
      "\n",
      "       days_since_prior_order  \n",
      "4838                     16.0  \n",
      "5156                     11.0  \n",
      "15506                     7.0  \n",
      "18420                    11.0  \n",
      "24691                     9.0  \n"
     ]
    }
   ],
   "source": [
    "# Basándote en tus hallazgos,\n",
    "# Verifica todos los pedidos que se hicieron el miércoles a las 2:00 a.m.\n",
    "wednesday_2am_orders = df_orders[(df_orders[\"order_dow\"] == 3) & (df_orders[\"order_hour_of_day\"] == 2)]\n",
    "print(f\"Número de pedidos realizados el miércoles a las 2:00 a.m.: {len(wednesday_2am_orders)}\")\n",
    "print(\"\\nEjemplo de pedidos realizados el miércoles a las 2:00 a.m.:\")\n",
    "print(wednesday_2am_orders.head())"
   ]
  },
  {
   "cell_type": "markdown",
   "id": "vu2OWyoqwOx5",
   "metadata": {
    "id": "vu2OWyoqwOx5"
   },
   "source": [
    "¿Qué sugiere este resultado?"
   ]
  },
  {
   "cell_type": "markdown",
   "id": "145a864c",
   "metadata": {},
   "source": [
    "Hallazgos:\n",
    "\n",
    "Un análisis de los pedidos duplicados muestra que varios ocurrieron el miércoles a las 2:00 a.m.\n",
    "Este patrón podría sugerir un error en la captura de datos o un comportamiento recurrente de ciertos usuarios."
   ]
  },
  {
   "cell_type": "code",
   "execution_count": 12,
   "id": "480563c7",
   "metadata": {
    "id": "480563c7"
   },
   "outputs": [
    {
     "name": "stdout",
     "output_type": "stream",
     "text": [
      "\n",
      "Filas duplicadas eliminadas.\n"
     ]
    }
   ],
   "source": [
    "# Elimina los pedidos duplicados\n",
    "df_orders.drop_duplicates(inplace=True)\n",
    "print(\"\\nFilas duplicadas eliminadas.\")"
   ]
  },
  {
   "cell_type": "code",
   "execution_count": 13,
   "id": "0b2396a2",
   "metadata": {
    "id": "0b2396a2"
   },
   "outputs": [
    {
     "name": "stdout",
     "output_type": "stream",
     "text": [
      "Número de filas duplicadas después de la eliminación: 0\n"
     ]
    }
   ],
   "source": [
    "# Vuelve a verificar si hay filas duplicadas\n",
    "remaining_duplicates = df_orders.duplicated().sum()\n",
    "print(f\"Número de filas duplicadas después de la eliminación: {remaining_duplicates}\")"
   ]
  },
  {
   "cell_type": "code",
   "execution_count": 14,
   "id": "f6113ef1",
   "metadata": {
    "id": "f6113ef1"
   },
   "outputs": [
    {
     "name": "stdout",
     "output_type": "stream",
     "text": [
      "Número de IDs duplicados en 'order_id': 0\n"
     ]
    }
   ],
   "source": [
    "# Vuelve a verificar si hay IDs duplicados de pedidos\n",
    "duplicate_ids = df_orders[\"order_id\"].duplicated().sum()\n",
    "print(f\"Número de IDs duplicados en 'order_id': {duplicate_ids}\")"
   ]
  },
  {
   "cell_type": "markdown",
   "id": "99e2786f",
   "metadata": {},
   "source": [
    "Hallazgos:\n",
    "\n",
    "-  Nos encontramos con algunas filas duplicadas las cualen tenían en común los pedidos realizados el día miercoles a las 2:00 a.m, este patrón podría sugerir un error en la captura de datos o un comportamiento recurrente de ciertos usuarios, pero para asegurarnos de que no sea un error, eliminamos todos los duplicados en la columna 'order_id' para garantizar que estos no sean pedidos repetidos."
   ]
  },
  {
   "cell_type": "markdown",
   "id": "45e6bc46",
   "metadata": {
    "id": "45e6bc46"
   },
   "source": [
    "### `products` data frame"
   ]
  },
  {
   "cell_type": "code",
   "execution_count": 15,
   "id": "5f526b5b-8175-46fa-a0fd-441767d50e64",
   "metadata": {
    "id": "5f526b5b-8175-46fa-a0fd-441767d50e64"
   },
   "outputs": [
    {
     "name": "stdout",
     "output_type": "stream",
     "text": [
      "Número de filas duplicadas en products:\n",
      "0\n"
     ]
    }
   ],
   "source": [
    "# Verifica si hay filas totalmente duplicadas\n",
    "print(\"Número de filas duplicadas en products:\")\n",
    "print(df_products.duplicated().sum())"
   ]
  },
  {
   "cell_type": "code",
   "execution_count": 16,
   "id": "88daa4f4",
   "metadata": {
    "id": "88daa4f4"
   },
   "outputs": [
    {
     "name": "stdout",
     "output_type": "stream",
     "text": [
      "\n",
      "Número de IDs de productos duplicadas:\n",
      "0\n"
     ]
    }
   ],
   "source": [
    "# Verifica si hay IDs duplicadas de productos\n",
    "print(\"\\nNúmero de IDs de productos duplicadas:\")\n",
    "print(df_products[\"product_id\"].duplicated().sum())"
   ]
  },
  {
   "cell_type": "code",
   "execution_count": 17,
   "id": "c773f0bf",
   "metadata": {
    "id": "c773f0bf"
   },
   "outputs": [
    {
     "name": "stdout",
     "output_type": "stream",
     "text": [
      "\n",
      "Número de nombres de productos duplicados:\n",
      "1361\n"
     ]
    }
   ],
   "source": [
    "# Revisa si hay nombres duplicados de productos (convierte los nombres a letras mayúsculas para compararlos mejor)\n",
    "df_products[\"product_name_upper\"] = df_products[\"product_name\"].str.upper()\n",
    "print(\"\\nNúmero de nombres de productos duplicados:\")\n",
    "print(df_products[\"product_name_upper\"].duplicated().sum())"
   ]
  },
  {
   "cell_type": "code",
   "execution_count": 18,
   "id": "01efd02e",
   "metadata": {
    "id": "01efd02e"
   },
   "outputs": [
    {
     "name": "stdout",
     "output_type": "stream",
     "text": [
      "\n",
      "Número de nombres de productos no nulos duplicados:\n",
      "104\n"
     ]
    }
   ],
   "source": [
    "# Revisa si hay nombres duplicados de productos no faltantes\n",
    "non_null_products = df_products[df_products[\"product_name\"].notnull()]\n",
    "print(\"\\nNúmero de nombres de productos no nulos duplicados:\")\n",
    "print(non_null_products[\"product_name_upper\"].duplicated().sum())\n",
    "\n",
    "# Limpieza\n",
    "df_products.drop(columns=[\"product_name_upper\"], inplace=True)  # Eliminamos la columna auxiliar"
   ]
  },
  {
   "cell_type": "markdown",
   "id": "f1ba9773",
   "metadata": {},
   "source": [
    "Hallazgos:\n",
    "\n",
    "Al ver que tenemos 1361 nombres de productos duplicados podemos intuir que se tratan de el mismo producto pero de diferentes marcas, ya que comprobamos que en la columna 'product_id' que no hay IDs de productos duplicados.\n",
    "\n",
    "(en la parte de los nombres de productos no nulos duplicados, se que son 104 pero no se bien que significa esa información o que puedo hacer con ella ya que \"nombres de pedidos duplicados\" y \"nombres de pedidos duplicados no nulos\" se me hace lo mismo y es algo confuso.)"
   ]
  },
  {
   "cell_type": "markdown",
   "id": "60f30db1",
   "metadata": {
    "id": "60f30db1"
   },
   "source": [
    "### `departments` data frame"
   ]
  },
  {
   "cell_type": "code",
   "execution_count": 19,
   "id": "fb410ad4-0fbf-4b80-bb09-23fdea79afe3",
   "metadata": {
    "id": "fb410ad4-0fbf-4b80-bb09-23fdea79afe3"
   },
   "outputs": [
    {
     "name": "stdout",
     "output_type": "stream",
     "text": [
      "Número de filas duplicadas en departments:\n",
      "0\n"
     ]
    }
   ],
   "source": [
    "# Revisa si hay filas totalmente duplicadas\n",
    "print(\"Número de filas duplicadas en departments:\")\n",
    "print(df_departments.duplicated().sum())"
   ]
  },
  {
   "cell_type": "code",
   "execution_count": 20,
   "id": "332b12bb",
   "metadata": {
    "id": "332b12bb"
   },
   "outputs": [
    {
     "name": "stdout",
     "output_type": "stream",
     "text": [
      "\n",
      "Número de IDs duplicadas en departments:\n",
      "0\n"
     ]
    }
   ],
   "source": [
    "# Revisa si hay IDs duplicadas de productos\n",
    "print(\"\\nNúmero de IDs duplicadas en departments:\")\n",
    "print(df_departments[\"department_id\"].duplicated().sum())"
   ]
  },
  {
   "cell_type": "markdown",
   "id": "9135aea1",
   "metadata": {},
   "source": [
    "Hallazgos: \n",
    "\n",
    "- No hay ni filas ni IDs duplicadas, este dataframe está listo para ser trabajado."
   ]
  },
  {
   "cell_type": "markdown",
   "id": "889349c1",
   "metadata": {
    "id": "889349c1"
   },
   "source": [
    "### `aisles` data frame"
   ]
  },
  {
   "cell_type": "code",
   "execution_count": 21,
   "id": "9da89fb9-4679-40f5-ad0d-c34df753a3f8",
   "metadata": {
    "id": "9da89fb9-4679-40f5-ad0d-c34df753a3f8"
   },
   "outputs": [
    {
     "name": "stdout",
     "output_type": "stream",
     "text": [
      "Número de filas duplicadas en aisles:\n",
      "0\n"
     ]
    }
   ],
   "source": [
    "# Revisa si hay filas totalmente duplicadas\n",
    "print(\"Número de filas duplicadas en aisles:\")\n",
    "print(df_aisles.duplicated().sum())"
   ]
  },
  {
   "cell_type": "code",
   "execution_count": 22,
   "id": "da7c2822",
   "metadata": {
    "id": "da7c2822"
   },
   "outputs": [
    {
     "name": "stdout",
     "output_type": "stream",
     "text": [
      "\n",
      "Número de IDs duplicadas en aisles:\n",
      "0\n"
     ]
    }
   ],
   "source": [
    "# Revisa si hay IDs duplicadas de productos\n",
    "print(\"\\nNúmero de IDs duplicadas en aisles:\")\n",
    "print(df_aisles[\"aisle_id\"].duplicated().sum())"
   ]
  },
  {
   "cell_type": "markdown",
   "id": "c869034b",
   "metadata": {},
   "source": [
    "Hallazgos:\n",
    "\n",
    "- No hay ni filas ni IDs duplicadas, este dataframe está listo para ser trabajado."
   ]
  },
  {
   "cell_type": "markdown",
   "id": "274cd06a",
   "metadata": {
    "id": "274cd06a"
   },
   "source": [
    "### `order_products` data frame"
   ]
  },
  {
   "cell_type": "code",
   "execution_count": 23,
   "id": "52326689-84a8-4b8f-a881-7c68780f62c9",
   "metadata": {
    "id": "52326689-84a8-4b8f-a881-7c68780f62c9"
   },
   "outputs": [
    {
     "name": "stdout",
     "output_type": "stream",
     "text": [
      "Número de filas duplicadas en order_products:\n",
      "0\n"
     ]
    }
   ],
   "source": [
    "# Revisa si hay filas totalmente duplicadas\n",
    "print(\"Número de filas duplicadas en order_products:\")\n",
    "print(df_order_products.duplicated().sum())"
   ]
  },
  {
   "cell_type": "code",
   "execution_count": 24,
   "id": "7b861391",
   "metadata": {
    "id": "7b861391"
   },
   "outputs": [
    {
     "name": "stdout",
     "output_type": "stream",
     "text": [
      "\n",
      "Número de duplicados basados en 'order_id' y 'product_id':\n",
      "0\n"
     ]
    }
   ],
   "source": [
    "# Vuelve a verificar si hay cualquier otro duplicado engañoso\n",
    "duplicates_check = df_order_products[df_order_products.duplicated(subset=[\"order_id\", \"product_id\"])]\n",
    "print(\"\\nNúmero de duplicados basados en 'order_id' y 'product_id':\")\n",
    "print(duplicates_check.shape[0])"
   ]
  },
  {
   "cell_type": "markdown",
   "id": "74ad6b50",
   "metadata": {},
   "source": [
    "Hallazgos:\n",
    "\n",
    "- No hay ni filas ni IDs duplicadas, este dataframe está listo para ser trabajado."
   ]
  },
  {
   "cell_type": "markdown",
   "id": "1e46de76",
   "metadata": {
    "id": "1e46de76"
   },
   "source": [
    "## Encuentra y elimina los valores ausentes\n",
    "\n",
    "Al trabajar con valores duplicados, pudimos observar que también nos falta investigar valores ausentes:\n",
    "\n",
    "* La columna `'product_name'` de la tabla products.\n",
    "* La columna `'days_since_prior_order'` de la tabla orders.\n",
    "* La columna `'add_to_cart_order'` de la tabla order_productos."
   ]
  },
  {
   "cell_type": "markdown",
   "id": "c0aebd78",
   "metadata": {
    "id": "c0aebd78"
   },
   "source": [
    "### `products` data frame"
   ]
  },
  {
   "cell_type": "code",
   "execution_count": 25,
   "id": "fe4a8b0f",
   "metadata": {
    "id": "fe4a8b0f",
    "scrolled": true
   },
   "outputs": [
    {
     "name": "stdout",
     "output_type": "stream",
     "text": [
      "Número de valores ausentes en 'product_name': 1258\n"
     ]
    }
   ],
   "source": [
    "# Encuentra los valores ausentes en la columna 'product_name'\n",
    "missing_products = df_products[\"product_name\"].isnull().sum()\n",
    "print(f\"Número de valores ausentes en 'product_name': {missing_products}\")"
   ]
  },
  {
   "cell_type": "markdown",
   "id": "17ccd75d",
   "metadata": {},
   "source": [
    "Hallazgos:\n",
    "\n",
    "- tenemos 1258 valores ausentes en la columna 'product_name' del dataframe df_products."
   ]
  },
  {
   "cell_type": "code",
   "execution_count": 26,
   "id": "e96167bc",
   "metadata": {
    "id": "e96167bc"
   },
   "outputs": [],
   "source": [
    "#  ¿Todos los nombres de productos ausentes están relacionados con el pasillo con ID 100?\n",
    "missing_product_ids = df_products[df_products[\"product_name\"].isnull()]\n",
    "aisle_ids = missing_product_ids[\"aisle_id\"].unique()"
   ]
  },
  {
   "cell_type": "code",
   "execution_count": 27,
   "id": "8fd0a541",
   "metadata": {
    "id": "8fd0a541"
   },
   "outputs": [],
   "source": [
    "# ¿Todos los nombres de productos ausentes están relacionados con el departamento con ID 21?\n",
    "\n",
    "department_ids = missing_product_ids[\"department_id\"].unique()"
   ]
  },
  {
   "cell_type": "code",
   "execution_count": 28,
   "id": "325c3464",
   "metadata": {
    "id": "325c3464"
   },
   "outputs": [
    {
     "name": "stdout",
     "output_type": "stream",
     "text": [
      "\n",
      "Pasillos asociados con productos faltantes: [100]\n",
      "Departamentos asociados con productos faltantes: [21]\n"
     ]
    }
   ],
   "source": [
    "# Usa las tablas department y aisle para revisar los datos del pasillo con ID 100 y el departamento con ID 21.\n",
    "print(\"\\nPasillos asociados con productos faltantes:\", aisle_ids)\n",
    "print(\"Departamentos asociados con productos faltantes:\", department_ids)"
   ]
  },
  {
   "cell_type": "code",
   "execution_count": 29,
   "id": "6b295120",
   "metadata": {
    "id": "6b295120"
   },
   "outputs": [
    {
     "name": "stdout",
     "output_type": "stream",
     "text": [
      "\n",
      "Valores ausentes en 'product_name' completados con 'Unknown'.\n"
     ]
    }
   ],
   "source": [
    "# Completa los nombres de productos ausentes con 'Unknown'\n",
    "df_products[\"product_name\"].fillna(\"Unknown\", inplace=True)\n",
    "print(\"\\nValores ausentes en 'product_name' completados con 'Unknown'.\")"
   ]
  },
  {
   "cell_type": "markdown",
   "id": "7eb45c86",
   "metadata": {
    "id": "7eb45c86"
   },
   "source": [
    "### `orders` data frame"
   ]
  },
  {
   "cell_type": "code",
   "execution_count": 30,
   "id": "93e41d96",
   "metadata": {
    "id": "93e41d96"
   },
   "outputs": [
    {
     "name": "stdout",
     "output_type": "stream",
     "text": [
      "Número de valores ausentes en 'days_since_prior_order': 28817\n"
     ]
    }
   ],
   "source": [
    "# Encuentra los valores ausentes\n",
    "missing_days = df_orders[\"days_since_prior_order\"].isnull().sum()\n",
    "print(f\"Número de valores ausentes en 'days_since_prior_order': {missing_days}\")"
   ]
  },
  {
   "cell_type": "code",
   "execution_count": 31,
   "id": "166e5a86",
   "metadata": {
    "id": "166e5a86"
   },
   "outputs": [
    {
     "name": "stdout",
     "output_type": "stream",
     "text": [
      "\n",
      "Valores ausentes asociados con el primer pedido del cliente:\n",
      "1    28817\n",
      "Name: order_number, dtype: int64\n"
     ]
    }
   ],
   "source": [
    "# ¿Hay algún valor ausente que no sea el primer pedido del cliente?\n",
    "missing_orders = df_orders[df_orders[\"days_since_prior_order\"].isnull()]\n",
    "print(\"\\nValores ausentes asociados con el primer pedido del cliente:\")\n",
    "print(missing_orders[\"order_number\"].value_counts())"
   ]
  },
  {
   "cell_type": "code",
   "execution_count": 32,
   "id": "1a73b61a",
   "metadata": {},
   "outputs": [
    {
     "name": "stdout",
     "output_type": "stream",
     "text": [
      "\n",
      "Valores ausentes en 'days_since_prior_order' completados con 0.0.\n"
     ]
    }
   ],
   "source": [
    "df_orders[\"days_since_prior_order\"].fillna(0.0, inplace=True)\n",
    "print(\"\\nValores ausentes en 'days_since_prior_order' completados con 0.0.\")"
   ]
  },
  {
   "cell_type": "markdown",
   "id": "69dc9ca4",
   "metadata": {
    "id": "69dc9ca4"
   },
   "source": [
    "### `order_products` data frame"
   ]
  },
  {
   "cell_type": "code",
   "execution_count": 33,
   "id": "b8240253",
   "metadata": {
    "id": "b8240253"
   },
   "outputs": [
    {
     "name": "stdout",
     "output_type": "stream",
     "text": [
      "Número de valores ausentes en 'add_to_cart_order': 836\n"
     ]
    }
   ],
   "source": [
    "# Encuentra los valores ausentes\n",
    "missing_cart_order = df_order_products[\"add_to_cart_order\"].isnull().sum()\n",
    "print(f\"Número de valores ausentes en 'add_to_cart_order': {missing_cart_order}\")"
   ]
  },
  {
   "cell_type": "code",
   "execution_count": 34,
   "id": "9a78e5ee",
   "metadata": {
    "id": "9a78e5ee"
   },
   "outputs": [
    {
     "name": "stdout",
     "output_type": "stream",
     "text": [
      "Valor minimo de add_to_cart_order: 1.0\n",
      "Valor maximo de add_to_cart_order: 64.0\n"
     ]
    }
   ],
   "source": [
    "# ¿Cuáles son los valores mínimos y máximos en esta columna?\n",
    "min_val = df_order_products['add_to_cart_order'].min()\n",
    "max_val = df_order_products['add_to_cart_order'].max()\n",
    "print(f'Valor minimo de add_to_cart_order: {min_val}')\n",
    "print(f'Valor maximo de add_to_cart_order: {max_val}')"
   ]
  },
  {
   "cell_type": "markdown",
   "id": "708b3572",
   "metadata": {},
   "source": [
    "Hallazgos:\n",
    "\n",
    "- tenemos 836 valores ausentes en la columna \"add_to_cart_order\", el valor minimo es de 1 y el maximo es de 64, y como esta columna nos dice el orden secuencial en el que se añadió cada artículo en el carrito podemos deducir 64 es el numero maximo de productos que se han hecho en un pedido."
   ]
  },
  {
   "cell_type": "code",
   "execution_count": 35,
   "id": "ab9d0c2b",
   "metadata": {
    "id": "ab9d0c2b"
   },
   "outputs": [
    {
     "name": "stdout",
     "output_type": "stream",
     "text": [
      "\n",
      "Pedidos con valores ausentes en 'add_to_cart_order':\n",
      "[2449164 1968313 2926893 1717990 1959075  844733   61355  936852  264710\n",
      " 1564093  129627  293169 2849370 1386261 3308010  903110 2136777 3347453\n",
      " 1888628  165801 2094761 1038146 2997021  813364 2256933  171934 2409109\n",
      " 1730767 1169835  733526  404157 3125735  747668 1800005 1961723  871281\n",
      "  388234 1648217 1477139  102236 1021563 1832957 2721963  678116 1220886\n",
      " 1673227 2999801 1633337 2470674 2625444 1677118 2479011 3383594 1183255\n",
      " 1713430 2652650 1598369 1916118  854647 1302315  888470  180546 2621907\n",
      " 1308785 2729254    9310 2170451 2979697 1625713 1529171]\n"
     ]
    }
   ],
   "source": [
    "# Guarda todas las IDs de pedidos que tengan un valor ausente en 'add_to_cart_order'\n",
    "missing_order_ids = df_order_products[df_order_products[\"add_to_cart_order\"].isnull()][\"order_id\"].unique()\n",
    "print(\"\\nPedidos con valores ausentes en 'add_to_cart_order':\")\n",
    "print(missing_order_ids)"
   ]
  },
  {
   "cell_type": "code",
   "execution_count": 36,
   "id": "54c31695",
   "metadata": {
    "id": "54c31695"
   },
   "outputs": [
    {
     "name": "stdout",
     "output_type": "stream",
     "text": [
      "\n",
      "Número mínimo de productos en pedidos con datos ausentes:\n",
      "65\n"
     ]
    }
   ],
   "source": [
    "# ¿Todos los pedidos con valores ausentes tienen más de 64 productos?\n",
    "# Agrupa todos los pedidos con datos ausentes por su ID de pedido.\n",
    "# Cuenta el número de 'product_id' en cada pedido y revisa el valor mínimo del conteo.\n",
    "grouped_orders = df_order_products[df_order_products[\"order_id\"].isin(missing_order_ids)]\n",
    "order_counts = grouped_orders.groupby(\"order_id\")[\"product_id\"].count()\n",
    "print(\"\\nNúmero mínimo de productos en pedidos con datos ausentes:\")\n",
    "print(order_counts.min())"
   ]
  },
  {
   "cell_type": "code",
   "execution_count": 37,
   "id": "7a987d08",
   "metadata": {
    "id": "7a987d08"
   },
   "outputs": [
    {
     "name": "stdout",
     "output_type": "stream",
     "text": [
      "\n",
      "Valores ausentes en 'add_to_cart_order' completados con 999 y convertidos a enteros.\n"
     ]
    }
   ],
   "source": [
    "# Remplaza los valores ausentes en la columna 'add_to_cart? con 999 y convierte la columna al tipo entero.\n",
    "df_order_products[\"add_to_cart_order\"].fillna(999, inplace=True)\n",
    "df_order_products[\"add_to_cart_order\"] = df_order_products[\"add_to_cart_order\"].astype(int)\n",
    "print(\"\\nValores ausentes en 'add_to_cart_order' completados con 999 y convertidos a enteros.\")"
   ]
  },
  {
   "cell_type": "markdown",
   "id": "e3610a93",
   "metadata": {},
   "source": [
    "## Conclusion preprocesamiento de datos \n",
    "\n",
    "El preprocesamiento realizado reveló y corrigió varios aspectos clave en los datos. Los valores duplicados en diferentes tablas, como df_orders, fueron eliminados, destacándose un patrón en los pedidos duplicados realizados un miércoles a las 2:00 a.m., posiblemente relacionado con errores de captura o comportamientos recurrentes. Para los valores ausentes, se identificaron casos significativos, como nombres de productos faltantes, completados con \"Unknown\", y valores nulos en la columna days_since_prior_order de df_orders, los cuales fueron rellenados con 0 al asociarse principalmente al primer pedido de los clientes. Este análisis no solo mejoró la calidad de los datos, sino que también destacó posibles problemas en el origen de los datos, como registros inconsistentes o incompletos, brindando insights sobre cómo fortalecer la captura de información."
   ]
  },
  {
   "cell_type": "markdown",
   "id": "UjrOIwTcz3ri",
   "metadata": {
    "id": "UjrOIwTcz3ri"
   },
   "source": [
    "# Paso 3. Análisis de los datos\n"
   ]
  },
  {
   "cell_type": "markdown",
   "id": "short-capability",
   "metadata": {
    "id": "short-capability"
   },
   "source": [
    "### [A1] Verifica que los valores sean sensibles"
   ]
  },
  {
   "cell_type": "code",
   "execution_count": 38,
   "id": "growing-fruit",
   "metadata": {
    "id": "growing-fruit"
   },
   "outputs": [],
   "source": [
    "# [A] Fácil: Verificar valores razonables y graficar patrones\n",
    "assert df_orders[\"order_hour_of_day\"].between(0, 23).all(), \"Valores fuera de rango en order_hour_of_day\""
   ]
  },
  {
   "cell_type": "code",
   "execution_count": 39,
   "id": "accessory-malaysia",
   "metadata": {
    "id": "accessory-malaysia"
   },
   "outputs": [],
   "source": [
    "assert df_orders[\"order_dow\"].between(0, 6).all(), \"Valores fuera de rango en order_dow\""
   ]
  },
  {
   "cell_type": "markdown",
   "id": "hmR2GNQ6lCsX",
   "metadata": {
    "id": "hmR2GNQ6lCsX"
   },
   "source": [
    "Escribe aquí tus conclusiones"
   ]
  },
  {
   "cell_type": "markdown",
   "id": "a6743a70",
   "metadata": {
    "id": "a6743a70"
   },
   "source": [
    "### [A2] Para cada hora del día, ¿cuántas personas hacen órdenes?"
   ]
  },
  {
   "cell_type": "code",
   "execution_count": 40,
   "id": "a36cca27",
   "metadata": {
    "id": "a36cca27"
   },
   "outputs": [
    {
     "data": {
      "image/png": "[encoded data removed]",
      "text/plain": [
       "<Figure size 1000x600 with 1 Axes>"
      ]
     },
     "metadata": {},
     "output_type": "display_data"
    }
   ],
   "source": [
    "df_orders[\"order_hour_of_day\"].value_counts().sort_index().plot(\n",
    "    x=\"order_hour_of_day\",\n",
    "    kind=\"bar\",\n",
    "    title=\"Número de pedidos por hora del día\",\n",
    "    xlabel=\"Hora del día\",\n",
    "    ylabel=\"Número de pedidos\",\n",
    "    figsize=(10, 6)\n",
    ")\n",
    "\n",
    "plt.show()"
   ]
  },
  {
   "cell_type": "markdown",
   "id": "4bf5751c",
   "metadata": {},
   "source": [
    "- Podemos ver que a partir de las 7 am la gente empieza a hacer sus pedidos pero es entre las 8:00 - 17:00 donde se concentran la mayor cantidad de pedidos con un pico maximo de 40.000 pedidos entre las 10:00 - 12:00."
   ]
  },
  {
   "cell_type": "markdown",
   "id": "documented-command",
   "metadata": {
    "id": "documented-command"
   },
   "source": [
    "### [A3] ¿Qué día de la semana compran víveres las personas?"
   ]
  },
  {
   "cell_type": "code",
   "execution_count": 41,
   "id": "chief-digit",
   "metadata": {
    "id": "chief-digit"
   },
   "outputs": [
    {
     "data": {
      "image/png": "[encoded data removed]",
      "text/plain": [
       "<Figure size 1000x600 with 1 Axes>"
      ]
     },
     "metadata": {},
     "output_type": "display_data"
    }
   ],
   "source": [
    "df_orders[\"order_dow\"].value_counts().sort_index().plot(\n",
    "    x=\"order_dow\",\n",
    "    kind=\"bar\",\n",
    "    title=\"Número de pedidos por día de la semana\",\n",
    "    xlabel=\"Día de la semana (0 = Domingo)\",\n",
    "    ylabel=\"Número de pedidos\",\n",
    "    figsize=(10, 6)\n",
    ")\n",
    "\n",
    "plt.show()"
   ]
  },
  {
   "cell_type": "markdown",
   "id": "0004e8c0",
   "metadata": {},
   "source": [
    "- Como era de esperarse, la mayor cantidad de pedidos se hacen el domingo, pero el lunes tambien hay un numero alto de pedidos"
   ]
  },
  {
   "cell_type": "markdown",
   "id": "cutting-concert",
   "metadata": {
    "id": "cutting-concert"
   },
   "source": [
    "### [A4] ¿Cuánto tiempo esperan las personas hasta hacer otro pedido? Comenta sobre los valores mínimos y máximos."
   ]
  },
  {
   "cell_type": "code",
   "execution_count": 42,
   "id": "c231f523",
   "metadata": {
    "id": "c231f523"
   },
   "outputs": [
    {
     "data": {
      "image/png": "[encoded data removed]",
      "text/plain": [
       "<Figure size 1000x600 with 1 Axes>"
      ]
     },
     "metadata": {},
     "output_type": "display_data"
    }
   ],
   "source": [
    "df_orders[\"days_since_prior_order\"].plot(\n",
    "    kind=\"hist\",\n",
    "    bins=30,\n",
    "    edgecolor=\"k\",\n",
    "    title=\"Distribución de tiempo entre pedidos\",\n",
    "    xlabel=\"Días\",\n",
    "    ylabel=\"Frecuencia\",\n",
    "    figsize=(10, 6)\n",
    ")\n",
    "\n",
    "plt.show()"
   ]
  },
  {
   "cell_type": "markdown",
   "id": "a402ff4e",
   "metadata": {},
   "source": [
    "- Lo que nos dice el histograma es que las personas suelen hacer otro pedidio despues de 1 semana (8 días) pero con mucha mayor frecuencia las personas vuelven a hacer pedidos despues de 1 mes (30 dias)"
   ]
  },
  {
   "cell_type": "markdown",
   "id": "4d46ef77",
   "metadata": {},
   "source": [
    " *conclusion 2\n",
    "\n",
    "El histograma muestra que los clientes tienden a realizar otro pedido con mayor frecuencia después de 1 mes (30 días), seguido de pedidos cada 7 días.\n",
    "\n",
    "Para los valores de días igual a 0, esto probablemente refleja casos en los que un cliente realiza más de un pedido en el mismo día, lo que podría ser corroborado verificando los datos de usuario y fechas de pedido.\n",
    "\n",
    "El pico de pedidos cada 7 días podría estar relacionado con hábitos de compra rutinarios, como compras semanales de alimentos frescos, que suelen programarse en días específicos de la semana (por ejemplo, fines de semana). Analizar la distribución de días de la semana podría aportar más claridad."
   ]
  },
  {
   "cell_type": "markdown",
   "id": "packed-classic",
   "metadata": {
    "id": "packed-classic"
   },
   "source": [
    "### [B1] Diferencia entre miércoles y sábados para  `'order_hour_of_day'`. Traza gráficos de barra para los dos días y describe las diferencias que veas."
   ]
  },
  {
   "cell_type": "code",
   "execution_count": 43,
   "id": "d89b8403",
   "metadata": {
    "id": "d89b8403"
   },
   "outputs": [],
   "source": [
    "wed = df_orders[df_orders[\"order_dow\"] == 3][\"order_hour_of_day\"].value_counts().sort_index()"
   ]
  },
  {
   "cell_type": "code",
   "execution_count": 44,
   "id": "94e54e8a",
   "metadata": {
    "id": "94e54e8a"
   },
   "outputs": [],
   "source": [
    "sat = df_orders[df_orders[\"order_dow\"] == 6][\"order_hour_of_day\"].value_counts().sort_index()"
   ]
  },
  {
   "cell_type": "code",
   "execution_count": 45,
   "id": "797c90a8",
   "metadata": {
    "id": "797c90a8"
   },
   "outputs": [
    {
     "data": {
      "text/plain": [
       "<AxesSubplot:title={'center':'Pedidos por hora: Miércoles vs Sábado'}, xlabel='Hora del día', ylabel='Número de pedidos'>"
      ]
     },
     "execution_count": 45,
     "metadata": {},
     "output_type": "execute_result"
    },
    {
     "data": {
      "image/png": "[encoded data removed]",
      "text/plain": [
       "<Figure size 1000x600 with 1 Axes>"
      ]
     },
     "metadata": {},
     "output_type": "display_data"
    }
   ],
   "source": [
    "wed.plot(\n",
    "    kind=\"bar\",\n",
    "    title=\"Pedidos por hora: Miércoles vs Sábado\",\n",
    "    xlabel=\"Hora del día\",\n",
    "    ylabel=\"Número de pedidos\",\n",
    "    figsize=(10, 6),\n",
    "    color=\"blue\",\n",
    "    alpha=0.7,\n",
    "    label=\"Miércoles\"\n",
    ")"
   ]
  },
  {
   "cell_type": "code",
   "execution_count": 46,
   "id": "35bcea30",
   "metadata": {
    "id": "35bcea30"
   },
   "outputs": [
    {
     "data": {
      "image/png": "[encoded data removed]",
      "text/plain": [
       "<Figure size 640x480 with 1 Axes>"
      ]
     },
     "metadata": {},
     "output_type": "display_data"
    }
   ],
   "source": [
    "sat.plot(\n",
    "    kind=\"bar\",\n",
    "    color=\"orange\",\n",
    "    alpha=0.7,\n",
    "    label=\"Sábado\"\n",
    ")\n",
    "\n",
    "plt.legend()\n",
    "plt.show()"
   ]
  },
  {
   "cell_type": "markdown",
   "id": "39ea3c7f",
   "metadata": {},
   "source": [
    "- Las diferencias de pedidos entre el miercoles y el sabado son realmente pocas, solo al rededor el medio dia incrementan ligeramente los pedidos el dia sabado."
   ]
  },
  {
   "cell_type": "markdown",
   "id": "e3891143",
   "metadata": {
    "id": "e3891143"
   },
   "source": [
    "### [B2] ¿Cuál es la distribución para el número de pedidos por cliente?"
   ]
  },
  {
   "cell_type": "code",
   "execution_count": 47,
   "id": "d8c26c23",
   "metadata": {
    "id": "d8c26c23"
   },
   "outputs": [],
   "source": [
    "orders_per_customer = df_orders[\"user_id\"].value_counts()"
   ]
  },
  {
   "cell_type": "code",
   "execution_count": 48,
   "id": "00e69a66",
   "metadata": {
    "id": "00e69a66"
   },
   "outputs": [
    {
     "data": {
      "image/png": "[encoded data removed]",
      "text/plain": [
       "<Figure size 1000x600 with 1 Axes>"
      ]
     },
     "metadata": {},
     "output_type": "display_data"
    }
   ],
   "source": [
    "orders_per_customer.plot(\n",
    "    kind=\"hist\",\n",
    "    bins=30,\n",
    "    edgecolor=\"k\",\n",
    "    title=\"Distribución del número de pedidos por cliente\",\n",
    "    xlabel=\"Número de pedidos\",\n",
    "    ylabel=\"Frecuencia\",\n",
    "    figsize=(10, 6)\n",
    ")\n",
    "plt.legend([\"Frecuencia\"])\n",
    "plt.show()\n"
   ]
  },
  {
   "cell_type": "markdown",
   "id": "ef8cb072",
   "metadata": {},
   "source": [
    "Conclusion:\n",
    "\n",
    "La distribución del número de pedidos por cliente muestra que la mayoría de los usuarios realiza pocos pedidos, lo que podría ser indicativo de una alta rotación de clientes o de compras esporádicas. Por otro lado, existe un pequeño grupo de clientes muy frecuentes, lo que podría ser interesante de analizar para estrategias de retención y fidelización.\n",
    "\n",
    "Una estrategia de análisis más profunda podría incluir investigar qué porcentaje de las ventas totales proviene de estos clientes frecuentes y explorar características comunes entre ellos."
   ]
  },
  {
   "cell_type": "markdown",
   "id": "54a0319c",
   "metadata": {
    "id": "54a0319c"
   },
   "source": [
    "### [B3] ¿Cuáles son los 20 productos más populares (muestra su ID y nombre)?"
   ]
  },
  {
   "cell_type": "code",
   "execution_count": 49,
   "id": "exterior-arizona",
   "metadata": {
    "id": "exterior-arizona",
    "scrolled": true
   },
   "outputs": [],
   "source": [
    "top_products = df_order_products[\"product_id\"].value_counts().head(20)"
   ]
  },
  {
   "cell_type": "code",
   "execution_count": 50,
   "id": "universal-facial",
   "metadata": {
    "id": "universal-facial"
   },
   "outputs": [
    {
     "name": "stdout",
     "output_type": "stream",
     "text": [
      "Productos más populares:\n",
      "    index              Product Name\n",
      "0   24852                    Banana\n",
      "1   13176    Bag of Organic Bananas\n",
      "2   21137      Organic Strawberries\n",
      "3   21903      Organic Baby Spinach\n",
      "4   47209      Organic Hass Avocado\n",
      "5   47766           Organic Avocado\n",
      "6   47626               Large Lemon\n",
      "7   16797              Strawberries\n",
      "8   26209                     Limes\n",
      "9   27845        Organic Whole Milk\n",
      "10  27966       Organic Raspberries\n",
      "11  22935      Organic Yellow Onion\n",
      "12  24964            Organic Garlic\n",
      "13  45007          Organic Zucchini\n",
      "14  39275       Organic Blueberries\n",
      "15  49683            Cucumber Kirby\n",
      "16  28204        Organic Fuji Apple\n",
      "17   5876             Organic Lemon\n",
      "18   8277  Apple Honeycrisp Organic\n",
      "19  40706    Organic Grape Tomatoes\n"
     ]
    }
   ],
   "source": [
    "top_products_names = (\n",
    "    df_products.set_index(\"product_id\")\n",
    "    .loc[top_products.index, \"product_name\"]\n",
    "    .reset_index()\n",
    "    .rename(columns={\"product_name\": \"Product Name\"})\n",
    ")\n",
    "\n",
    "print(\"Productos más populares:\")\n",
    "print(top_products_names)"
   ]
  },
  {
   "cell_type": "code",
   "execution_count": 51,
   "id": "bbcdd20b",
   "metadata": {
    "id": "bbcdd20b"
   },
   "outputs": [
    {
     "data": {
      "image/png": "[encoded data removed]",
      "text/plain": [
       "<Figure size 1000x600 with 1 Axes>"
      ]
     },
     "metadata": {},
     "output_type": "display_data"
    }
   ],
   "source": [
    "top_products.plot(\n",
    "    kind=\"bar\",\n",
    "    title=\"Top 20 productos más populares\",\n",
    "    xlabel=\"Product ID\",\n",
    "    ylabel=\"Número de pedidos\",\n",
    "    figsize=(10, 6)\n",
    ")\n",
    "plt.legend([\"Frecuencia\"])\n",
    "plt.show()"
   ]
  },
  {
   "cell_type": "markdown",
   "id": "e52b3b2c",
   "metadata": {},
   "source": [
    "- Podemos ver que los productos favoritos son frutas como la banana, strawberries, avocado e.t.c"
   ]
  },
  {
   "cell_type": "markdown",
   "id": "romantic-deposit",
   "metadata": {
    "id": "romantic-deposit"
   },
   "source": [
    "### [C1] ¿Cuántos artículos compran normalmente las personas en un pedido? ¿Cómo es la distribución?"
   ]
  },
  {
   "cell_type": "code",
   "execution_count": 52,
   "id": "virtual-punch",
   "metadata": {
    "id": "virtual-punch"
   },
   "outputs": [],
   "source": [
    "items_per_order = df_order_products.groupby(\"order_id\").size()"
   ]
  },
  {
   "cell_type": "code",
   "execution_count": 53,
   "id": "sensitive-breathing",
   "metadata": {
    "id": "sensitive-breathing"
   },
   "outputs": [
    {
     "data": {
      "image/png": "[encoded data removed]",
      "text/plain": [
       "<Figure size 1000x600 with 1 Axes>"
      ]
     },
     "metadata": {},
     "output_type": "display_data"
    }
   ],
   "source": [
    "items_per_order.plot(\n",
    "    kind=\"hist\",\n",
    "    bins=30,\n",
    "    edgecolor=\"k\",\n",
    "    title=\"Distribución del número de artículos por pedido\",\n",
    "    xlabel=\"Número de artículos\",\n",
    "    ylabel=\"Frecuencia\",\n",
    "    figsize=(10, 6)\n",
    ")\n",
    "plt.show()"
   ]
  },
  {
   "cell_type": "markdown",
   "id": "e0d6748f",
   "metadata": {},
   "source": [
    "- Con mayor frecuencia la gente suele comprar entre 1 - 3 articulos por pedido."
   ]
  },
  {
   "cell_type": "markdown",
   "id": "5e6b5537",
   "metadata": {
    "id": "5e6b5537"
   },
   "source": [
    "### [C2] ¿Cuáles son los 20 principales artículos que vuelven a pedirse con mayor frecuencia (muestra sus nombres e IDs de los productos)?"
   ]
  },
  {
   "cell_type": "code",
   "execution_count": 54,
   "id": "9374e55a",
   "metadata": {
    "id": "9374e55a"
   },
   "outputs": [],
   "source": [
    "top_reordered = df_order_products[df_order_products[\"reordered\"] == 1][\"product_id\"].value_counts().head(20)"
   ]
  },
  {
   "cell_type": "code",
   "execution_count": 55,
   "id": "possible-change",
   "metadata": {
    "id": "possible-change",
    "scrolled": true
   },
   "outputs": [],
   "source": [
    "top_reordered_names = (\n",
    "    df_products.set_index(\"product_id\")\n",
    "    .loc[top_reordered.index, \"product_name\"]\n",
    "    .reset_index()\n",
    "    .rename(columns={\"product_name\": \"Product Name\"})\n",
    ")"
   ]
  },
  {
   "cell_type": "code",
   "execution_count": 56,
   "id": "professional-surfing",
   "metadata": {
    "id": "professional-surfing",
    "scrolled": false
   },
   "outputs": [
    {
     "name": "stdout",
     "output_type": "stream",
     "text": [
      "Productos reordenados con mayor frecuencia:\n",
      "    index              Product Name\n",
      "0   24852                    Banana\n",
      "1   13176    Bag of Organic Bananas\n",
      "2   21137      Organic Strawberries\n",
      "3   21903      Organic Baby Spinach\n",
      "4   47209      Organic Hass Avocado\n",
      "5   47766           Organic Avocado\n",
      "6   27845        Organic Whole Milk\n",
      "7   47626               Large Lemon\n",
      "8   27966       Organic Raspberries\n",
      "9   16797              Strawberries\n",
      "10  26209                     Limes\n",
      "11  22935      Organic Yellow Onion\n",
      "12  24964            Organic Garlic\n",
      "13  45007          Organic Zucchini\n",
      "14  49683            Cucumber Kirby\n",
      "15  28204        Organic Fuji Apple\n",
      "16   8277  Apple Honeycrisp Organic\n",
      "17  39275       Organic Blueberries\n",
      "18   5876             Organic Lemon\n",
      "19  49235       Organic Half & Half\n"
     ]
    }
   ],
   "source": [
    "print(\"Productos reordenados con mayor frecuencia:\")\n",
    "print(top_reordered_names)"
   ]
  },
  {
   "cell_type": "code",
   "execution_count": 57,
   "id": "48dd3658",
   "metadata": {
    "id": "48dd3658"
   },
   "outputs": [
    {
     "data": {
      "image/png": "[encoded data removed]",
      "text/plain": [
       "<Figure size 1000x600 with 1 Axes>"
      ]
     },
     "metadata": {},
     "output_type": "display_data"
    }
   ],
   "source": [
    "top_reordered.plot(\n",
    "    kind=\"bar\",\n",
    "    title=\"Top 20 productos reordenados con mayor frecuencia\",\n",
    "    xlabel=\"Product ID\",\n",
    "    ylabel=\"Número de reordenes\",\n",
    "    figsize=(10, 6)\n",
    ")\n",
    "plt.legend([\"Frecuencia\"])\n",
    "plt.show()"
   ]
  },
  {
   "cell_type": "markdown",
   "id": "73b5711f",
   "metadata": {},
   "source": [
    "Conclusion: \n",
    "\n",
    "El gráfico muestra que los productos más reordenados son mayormente frutas, vegetales y alimentos frescos, con un enfoque destacado en productos orgánicos como bananas, espinacas y fresas. Esto sugiere una fuerte preferencia de los consumidores por opciones saludables y productos básicos recurrentes como lácteos. Estos patrones de compra pueden ser clave para estrategias de inventario y marketing dirigidas."
   ]
  },
  {
   "cell_type": "markdown",
   "id": "9d312b14",
   "metadata": {
    "id": "9d312b14"
   },
   "source": [
    "### [C3] Para cada producto, ¿cuál es la proporción de las veces que se pide y que se vuelve a pedir?"
   ]
  },
  {
   "cell_type": "code",
   "execution_count": 58,
   "id": "8ae9f4b1",
   "metadata": {
    "id": "8ae9f4b1"
   },
   "outputs": [],
   "source": [
    "# [C3] Proporción de veces que se pide y se vuelve a pedir\n",
    "df_product_reorder = df_order_products.groupby(\"product_id\").agg(\n",
    "    total_orders=(\"order_id\", \"count\"),\n",
    "    reorder_times=(\"reordered\", \"sum\")\n",
    ")\n",
    "df_product_reorder[\"reorder_rate\"] = df_product_reorder[\"reorder_times\"] / df_product_reorder[\"total_orders\"]"
   ]
  },
  {
   "cell_type": "code",
   "execution_count": 59,
   "id": "103e7fe1",
   "metadata": {
    "id": "103e7fe1"
   },
   "outputs": [],
   "source": [
    "# Combinar con nombres de productos\n",
    "df_product_reorder = df_product_reorder.merge(df_products[[\"product_id\", \"product_name\"]], on=\"product_id\")"
   ]
  },
  {
   "cell_type": "code",
   "execution_count": 60,
   "id": "social-individual",
   "metadata": {
    "id": "social-individual"
   },
   "outputs": [
    {
     "data": {
      "text/plain": [
       "<Figure size 1000x600 with 0 Axes>"
      ]
     },
     "metadata": {},
     "output_type": "display_data"
    },
    {
     "data": {
      "image/png": "[encoded data removed]",
      "text/plain": [
       "<Figure size 1000x600 with 1 Axes>"
      ]
     },
     "metadata": {},
     "output_type": "display_data"
    }
   ],
   "source": [
    "plt.figure(figsize=(10, 6))\n",
    "df_product_reorder.plot(\n",
    "    kind=\"scatter\",\n",
    "    x=\"total_orders\",\n",
    "    y=\"reorder_rate\",\n",
    "    alpha=0.6,\n",
    "    title=\"Tasa de repetición vs Total de pedidos por producto\",\n",
    "    xlabel=\"Total de pedidos\",\n",
    "    ylabel=\"Tasa de repetición\",\n",
    "    figsize=(10, 6)\n",
    ")\n",
    "\n",
    "plt.show()"
   ]
  },
  {
   "cell_type": "markdown",
   "id": "61d48b52",
   "metadata": {},
   "source": [
    "Conclusion:\n",
    "\n",
    "El gráfico muestra que los productos con una alta tasa de repetición suelen ser aquellos con un número moderado de pedidos totales. Esto sugiere que ciertos productos básicos o favoritos son reordenados con mayor frecuencia, mientras que los productos con una alta cantidad total de pedidos tienden a tener una menor proporción de repetición, posiblemente debido a una mayor diversidad en las preferencias de los consumidores para estos productos. Estos datos son útiles para identificar artículos clave en la fidelización de clientes."
   ]
  },
  {
   "cell_type": "markdown",
   "id": "subject-boxing",
   "metadata": {
    "id": "subject-boxing"
   },
   "source": [
    "### [C4] Para cada cliente, ¿qué proporción de sus productos ya los había pedido?"
   ]
  },
  {
   "cell_type": "code",
   "execution_count": 61,
   "id": "medical-couple",
   "metadata": {
    "id": "medical-couple",
    "scrolled": false
   },
   "outputs": [],
   "source": [
    "df_combined = df_order_products.merge(df_orders, on=\"order_id\")\n",
    "customer_reorder_rate = (\n",
    "    df_combined.groupby(\"user_id\")[\"reordered\"].mean()\n",
    ")\n",
    "customer_reorder_rate_sorted = customer_reorder_rate.sort_values(ascending=False)\n"
   ]
  },
  {
   "cell_type": "code",
   "execution_count": 62,
   "id": "8892e4b4",
   "metadata": {
    "id": "8892e4b4"
   },
   "outputs": [
    {
     "data": {
      "image/png": "[encoded data removed]",
      "text/plain": [
       "<Figure size 1000x600 with 1 Axes>"
      ]
     },
     "metadata": {},
     "output_type": "display_data"
    }
   ],
   "source": [
    "customer_reorder_rate.plot(\n",
    "    kind=\"hist\",\n",
    "    bins=30,\n",
    "    edgecolor=\"k\",\n",
    "    title=\"Tasa de repetición por cliente\",\n",
    "    xlabel=\"Tasa de repetición\",\n",
    "    ylabel=\"Frecuencia\",\n",
    "    figsize=(10, 6)\n",
    ")\n",
    "plt.legend([\"Frecuencia\"])\n",
    "plt.show()"
   ]
  },
  {
   "cell_type": "markdown",
   "id": "4cafedbf",
   "metadata": {},
   "source": [
    "Conclusion: \n",
    "\n",
    "El histograma mostrará la distribución de las tasas de repetición por cliente, permitiendo identificar si la mayoría de los clientes suelen reordenar o no sus productos.\n",
    "\n",
    "La mayoría de los clientes tienen una tasa de repetición baja a moderada, lo que sugiere que tienden a explorar productos nuevos en sus pedidos en lugar de reordenar los mismos productos constantemente. Sin embargo, también hay un grupo notable de clientes con tasas de repetición altas, lo que indica un comportamiento de compra más consistente y fiel hacia ciertos productos. Esto podría ser aprovechado para estrategias de marketing personalizadas, como recomendaciones de productos recurrentes para estos clientes leales."
   ]
  },
  {
   "cell_type": "markdown",
   "id": "92d35137",
   "metadata": {
    "id": "92d35137"
   },
   "source": [
    "### [C5] ¿Cuáles son los 20 principales artículos que las personas ponen primero en sus carritos?"
   ]
  },
  {
   "cell_type": "code",
   "execution_count": 63,
   "id": "0ae57274",
   "metadata": {
    "id": "0ae57274",
    "scrolled": true
   },
   "outputs": [],
   "source": [
    "first_in_cart = df_order_products[df_order_products[\"add_to_cart_order\"] == 1][\"product_id\"].value_counts().head(20)"
   ]
  },
  {
   "cell_type": "code",
   "execution_count": 64,
   "id": "forty-netherlands",
   "metadata": {
    "id": "forty-netherlands",
    "scrolled": true
   },
   "outputs": [
    {
     "name": "stdout",
     "output_type": "stream",
     "text": [
      "Artículos más añadidos primero al carrito:\n",
      "    index                 Product Name\n",
      "0   24852                       Banana\n",
      "1   13176       Bag of Organic Bananas\n",
      "2   27845           Organic Whole Milk\n",
      "3   21137         Organic Strawberries\n",
      "4   47209         Organic Hass Avocado\n",
      "5   21903         Organic Baby Spinach\n",
      "6   47766              Organic Avocado\n",
      "7   19660                 Spring Water\n",
      "8   16797                 Strawberries\n",
      "9   27966          Organic Raspberries\n",
      "10  44632   Sparkling Water Grapefruit\n",
      "11  49235          Organic Half & Half\n",
      "12  47626                  Large Lemon\n",
      "13    196                         Soda\n",
      "14  38689     Organic Reduced Fat Milk\n",
      "15  26209                        Limes\n",
      "16  12341                Hass Avocados\n",
      "17   5785  Organic Reduced Fat 2% Milk\n",
      "18  27086                  Half & Half\n",
      "19  22935         Organic Yellow Onion\n"
     ]
    }
   ],
   "source": [
    "first_in_cart_names = (\n",
    "    df_products.set_index(\"product_id\")\n",
    "    .loc[first_in_cart.index, \"product_name\"]\n",
    "    .reset_index()\n",
    "    .rename(columns={\"product_name\": \"Product Name\"})\n",
    ")\n",
    "\n",
    "print(\"Artículos más añadidos primero al carrito:\")\n",
    "print(first_in_cart_names)"
   ]
  },
  {
   "cell_type": "code",
   "execution_count": 65,
   "id": "08e41ec2",
   "metadata": {
    "id": "08e41ec2"
   },
   "outputs": [
    {
     "data": {
      "image/png": "[encoded data removed]",
      "text/plain": [
       "<Figure size 1000x600 with 1 Axes>"
      ]
     },
     "metadata": {},
     "output_type": "display_data"
    }
   ],
   "source": [
    "first_in_cart.plot(\n",
    "    kind=\"bar\",\n",
    "    title=\"Top 20 artículos añadidos primero al carrito\",\n",
    "    xlabel=\"Product ID\",\n",
    "    ylabel=\"Veces como primer artículo\",\n",
    "    figsize=(10, 6)\n",
    ")\n",
    "plt.legend([\"Veces como primer artículo\"])\n",
    "plt.show()"
   ]
  },
  {
   "cell_type": "markdown",
   "id": "860941fe",
   "metadata": {},
   "source": [
    "Conclusion: \n",
    "\n",
    "Los productos frescos y esenciales, como plátanos, leche y fresas orgánicas, son las elecciones más frecuentes al iniciar el carrito, reflejando preferencias por artículos básicos y saludables. También destacan productos de conveniencia como agua y bebidas, lo que sugiere su importancia como compras iniciales."
   ]
  },
  {
   "cell_type": "markdown",
   "id": "uITbFCEoDosC",
   "metadata": {
    "id": "uITbFCEoDosC"
   },
   "source": [
    "### Conclusion general del proyecto:"
   ]
  },
  {
   "cell_type": "markdown",
   "id": "29f2bbef",
   "metadata": {
    "id": "Nk-4GS7mDwqY"
   },
   "source": [
    "Este proyecto demuestra cómo los datos de transacciones pueden revelar patrones significativos en los hábitos de compra de los clientes. A través de los análisis, identificamos los productos más frecuentemente reordenados, aquellos añadidos primero al carrito y las tasas de repetición por cliente, destacando la importancia de productos frescos, orgánicos y básicos como los favoritos en los carritos de compra. Además, descubrimos que ciertos clientes muestran altos índices de reorden, lo que sugiere un comportamiento de compra leal hacia productos específicos. Estas tendencias pueden ser valiosas para estrategias de marketing, personalización de ofertas y optimización del inventario, fortaleciendo la relación con los clientes y maximizando las ventas.\n",
    "\n",
    "El proyecto también evidencia la importancia de fusionar datos, agruparlos y calcular métricas clave para obtener insights útiles. Esto resalta cómo el análisis de datos puede transformar grandes volúmenes de información en decisiones estratégicas fundamentadas."
   ]
  },
  {
   "cell_type": "markdown",
   "id": "f6c0cc97",
   "metadata": {},
   "source": [
    "PDTA: Hola Ezequiel, intenté cambiar el nombre de los productos en el eje X en cada gráfico pero no pude y cada que lo hacía se rompía el código, entonces preferí dejarlo así."
   ]
  }
 ],
 "metadata": {
  "ExecuteTimeLog": [
   {
    "duration": 299,
    "start_time": "2024-12-05T15:17:12.097Z"
   },
   {
    "duration": 2,
    "start_time": "2024-12-05T15:24:37.130Z"
   },
   {
    "duration": 315,
    "start_time": "2024-12-05T15:24:38.066Z"
   },
   {
    "duration": 56,
    "start_time": "2024-12-05T15:24:39.538Z"
   },
   {
    "duration": 32,
    "start_time": "2024-12-05T15:24:41.087Z"
   },
   {
    "duration": 8,
    "start_time": "2024-12-05T15:24:42.937Z"
   },
   {
    "duration": 2087,
    "start_time": "2024-12-05T15:24:43.787Z"
   },
   {
    "duration": 39,
    "start_time": "2024-12-05T15:28:24.139Z"
   },
   {
    "duration": 280,
    "start_time": "2024-12-05T15:37:36.882Z"
   },
   {
    "duration": 31,
    "start_time": "2024-12-05T15:37:38.191Z"
   },
   {
    "duration": 30,
    "start_time": "2024-12-05T15:37:39.138Z"
   },
   {
    "duration": 5,
    "start_time": "2024-12-05T15:37:40.188Z"
   },
   {
    "duration": 2086,
    "start_time": "2024-12-05T15:37:41.538Z"
   },
   {
    "duration": 37,
    "start_time": "2024-12-05T15:37:45.911Z"
   },
   {
    "duration": 134,
    "start_time": "2024-12-05T15:41:17.501Z"
   },
   {
    "duration": 36,
    "start_time": "2024-12-05T15:41:18.184Z"
   },
   {
    "duration": 33,
    "start_time": "2024-12-05T15:41:18.829Z"
   },
   {
    "duration": 5,
    "start_time": "2024-12-05T15:41:19.835Z"
   },
   {
    "duration": 772,
    "start_time": "2024-12-05T15:41:20.546Z"
   },
   {
    "duration": 33,
    "start_time": "2024-12-05T15:41:22.168Z"
   },
   {
    "duration": 44,
    "start_time": "2024-12-05T15:45:59.532Z"
   },
   {
    "duration": 10,
    "start_time": "2024-12-05T15:55:55.547Z"
   },
   {
    "duration": 46,
    "start_time": "2024-12-05T15:56:00.552Z"
   },
   {
    "duration": 19,
    "start_time": "2024-12-05T16:30:32.031Z"
   },
   {
    "duration": 1026,
    "start_time": "2024-12-05T17:02:57.191Z"
   },
   {
    "duration": 10,
    "start_time": "2024-12-05T17:03:12.175Z"
   },
   {
    "duration": 11,
    "start_time": "2024-12-05T17:24:21.635Z"
   },
   {
    "duration": 4,
    "start_time": "2024-12-05T17:24:23.730Z"
   },
   {
    "duration": 1878,
    "start_time": "2024-12-05T17:58:51.572Z"
   },
   {
    "duration": 4,
    "start_time": "2024-12-05T18:17:17.290Z"
   },
   {
    "duration": 3,
    "start_time": "2024-12-05T18:17:18.315Z"
   },
   {
    "duration": 203,
    "start_time": "2024-12-05T18:25:09.058Z"
   },
   {
    "duration": 386,
    "start_time": "2024-12-05T18:33:43.352Z"
   },
   {
    "duration": 10148,
    "start_time": "2024-12-05T18:34:03.702Z"
   },
   {
    "duration": 164,
    "start_time": "2024-12-05T18:35:50.065Z"
   },
   {
    "duration": 7,
    "start_time": "2024-12-05T18:46:11.478Z"
   },
   {
    "duration": 4,
    "start_time": "2024-12-05T18:47:02.448Z"
   },
   {
    "duration": 4,
    "start_time": "2024-12-05T18:47:14.579Z"
   },
   {
    "duration": 4,
    "start_time": "2024-12-05T18:47:20.999Z"
   },
   {
    "duration": 5,
    "start_time": "2024-12-05T18:47:58.950Z"
   },
   {
    "duration": 204,
    "start_time": "2024-12-05T18:49:37.426Z"
   },
   {
    "duration": 131,
    "start_time": "2024-12-05T18:56:21.617Z"
   },
   {
    "duration": 174,
    "start_time": "2024-12-05T19:02:12.857Z"
   },
   {
    "duration": 7,
    "start_time": "2024-12-05T19:45:36.266Z"
   },
   {
    "duration": 7,
    "start_time": "2024-12-05T19:45:37.329Z"
   },
   {
    "duration": 255,
    "start_time": "2024-12-05T19:45:37.892Z"
   },
   {
    "duration": 167,
    "start_time": "2024-12-05T19:45:42.198Z"
   },
   {
    "duration": 18,
    "start_time": "2024-12-05T19:54:14.627Z"
   },
   {
    "duration": 5,
    "start_time": "2024-12-05T19:54:16.470Z"
   },
   {
    "duration": 2,
    "start_time": "2024-12-05T19:54:23.535Z"
   },
   {
    "duration": 123,
    "start_time": "2024-12-05T19:54:23.539Z"
   },
   {
    "duration": 32,
    "start_time": "2024-12-05T19:54:23.664Z"
   },
   {
    "duration": 6,
    "start_time": "2024-12-05T19:54:23.698Z"
   },
   {
    "duration": 6,
    "start_time": "2024-12-05T19:54:23.724Z"
   },
   {
    "duration": 724,
    "start_time": "2024-12-05T19:54:23.731Z"
   },
   {
    "duration": 44,
    "start_time": "2024-12-05T19:54:24.457Z"
   },
   {
    "duration": 31,
    "start_time": "2024-12-05T19:54:24.502Z"
   },
   {
    "duration": 970,
    "start_time": "2024-12-05T19:54:24.535Z"
   },
   {
    "duration": 3,
    "start_time": "2024-12-05T19:54:25.506Z"
   },
   {
    "duration": 13,
    "start_time": "2024-12-05T19:54:25.512Z"
   },
   {
    "duration": 2,
    "start_time": "2024-12-05T19:54:25.527Z"
   },
   {
    "duration": 3,
    "start_time": "2024-12-05T19:54:25.531Z"
   },
   {
    "duration": 3,
    "start_time": "2024-12-05T19:54:25.535Z"
   },
   {
    "duration": 3,
    "start_time": "2024-12-05T19:54:25.540Z"
   },
   {
    "duration": 2,
    "start_time": "2024-12-05T19:54:25.545Z"
   },
   {
    "duration": 3,
    "start_time": "2024-12-05T19:54:25.549Z"
   },
   {
    "duration": 4,
    "start_time": "2024-12-05T19:54:25.553Z"
   },
   {
    "duration": 3,
    "start_time": "2024-12-05T19:54:25.558Z"
   },
   {
    "duration": 2,
    "start_time": "2024-12-05T19:54:25.563Z"
   },
   {
    "duration": 3,
    "start_time": "2024-12-05T19:54:25.567Z"
   },
   {
    "duration": 3,
    "start_time": "2024-12-05T19:54:25.571Z"
   },
   {
    "duration": 49,
    "start_time": "2024-12-05T19:54:25.575Z"
   },
   {
    "duration": 10,
    "start_time": "2024-12-05T19:54:25.626Z"
   },
   {
    "duration": 2,
    "start_time": "2024-12-05T19:54:25.639Z"
   },
   {
    "duration": 3,
    "start_time": "2024-12-05T19:54:25.643Z"
   },
   {
    "duration": 3,
    "start_time": "2024-12-05T19:54:25.647Z"
   },
   {
    "duration": 2,
    "start_time": "2024-12-05T19:54:25.652Z"
   },
   {
    "duration": 2,
    "start_time": "2024-12-05T19:54:25.659Z"
   },
   {
    "duration": 3,
    "start_time": "2024-12-05T19:54:25.662Z"
   },
   {
    "duration": 3,
    "start_time": "2024-12-05T19:54:25.666Z"
   },
   {
    "duration": 2,
    "start_time": "2024-12-05T19:54:25.671Z"
   },
   {
    "duration": 49,
    "start_time": "2024-12-05T19:54:25.675Z"
   },
   {
    "duration": 2,
    "start_time": "2024-12-05T19:54:25.726Z"
   },
   {
    "duration": 3,
    "start_time": "2024-12-05T19:54:25.730Z"
   },
   {
    "duration": 5,
    "start_time": "2024-12-05T19:54:25.734Z"
   },
   {
    "duration": 4,
    "start_time": "2024-12-05T19:54:25.740Z"
   },
   {
    "duration": 214,
    "start_time": "2024-12-05T19:54:25.745Z"
   },
   {
    "duration": 139,
    "start_time": "2024-12-05T19:54:25.961Z"
   },
   {
    "duration": 180,
    "start_time": "2024-12-05T19:54:26.102Z"
   },
   {
    "duration": 9,
    "start_time": "2024-12-05T19:54:26.285Z"
   },
   {
    "duration": 10,
    "start_time": "2024-12-05T19:54:26.295Z"
   },
   {
    "duration": 197,
    "start_time": "2024-12-05T19:54:26.310Z"
   },
   {
    "duration": 177,
    "start_time": "2024-12-05T19:54:26.508Z"
   },
   {
    "duration": 14,
    "start_time": "2024-12-05T19:54:26.687Z"
   },
   {
    "duration": 4,
    "start_time": "2024-12-05T19:54:26.703Z"
   },
   {
    "duration": 159,
    "start_time": "2024-12-05T19:54:55.836Z"
   },
   {
    "duration": 87,
    "start_time": "2024-12-05T20:01:09.544Z"
   },
   {
    "duration": 9,
    "start_time": "2024-12-05T20:02:20.140Z"
   },
   {
    "duration": 195,
    "start_time": "2024-12-05T20:03:04.516Z"
   },
   {
    "duration": 6,
    "start_time": "2024-12-05T20:06:15.157Z"
   },
   {
    "duration": 6,
    "start_time": "2024-12-05T20:06:21.643Z"
   },
   {
    "duration": 84,
    "start_time": "2024-12-05T20:06:36.743Z"
   },
   {
    "duration": 7,
    "start_time": "2024-12-05T20:06:38.449Z"
   },
   {
    "duration": 12,
    "start_time": "2024-12-05T20:08:29.411Z"
   },
   {
    "duration": 267,
    "start_time": "2024-12-05T20:18:16.652Z"
   },
   {
    "duration": 170,
    "start_time": "2024-12-05T20:18:17.296Z"
   },
   {
    "duration": 156,
    "start_time": "2024-12-05T20:18:18.049Z"
   },
   {
    "duration": 270,
    "start_time": "2024-12-05T20:18:42.354Z"
   },
   {
    "duration": 183,
    "start_time": "2024-12-05T20:18:43.292Z"
   },
   {
    "duration": 113,
    "start_time": "2024-12-05T20:21:24.327Z"
   },
   {
    "duration": 8,
    "start_time": "2024-12-05T20:21:25.134Z"
   },
   {
    "duration": 6,
    "start_time": "2024-12-05T20:21:58.892Z"
   },
   {
    "duration": 5,
    "start_time": "2024-12-05T20:22:00.617Z"
   },
   {
    "duration": 189,
    "start_time": "2024-12-05T20:28:02.230Z"
   },
   {
    "duration": 120,
    "start_time": "2024-12-05T20:41:35.512Z"
   },
   {
    "duration": 15,
    "start_time": "2024-12-05T20:41:36.057Z"
   },
   {
    "duration": 209,
    "start_time": "2024-12-05T20:41:36.678Z"
   },
   {
    "duration": 404,
    "start_time": "2024-12-05T20:46:31.222Z"
   },
   {
    "duration": 19,
    "start_time": "2024-12-05T20:47:51.870Z"
   },
   {
    "duration": 29,
    "start_time": "2024-12-05T20:51:01.412Z"
   },
   {
    "duration": 8,
    "start_time": "2024-12-05T20:51:02.943Z"
   },
   {
    "duration": 202,
    "start_time": "2024-12-05T20:51:05.896Z"
   },
   {
    "duration": 8,
    "start_time": "2024-12-05T21:16:05.244Z"
   },
   {
    "duration": 4,
    "start_time": "2024-12-05T21:16:54.264Z"
   },
   {
    "duration": 160,
    "start_time": "2024-12-06T04:16:03.530Z"
   },
   {
    "duration": 2121,
    "start_time": "2024-12-06T04:16:30.051Z"
   },
   {
    "duration": 148,
    "start_time": "2024-12-06T04:16:32.174Z"
   },
   {
    "duration": 60,
    "start_time": "2024-12-06T04:16:32.324Z"
   },
   {
    "duration": 7,
    "start_time": "2024-12-06T04:16:32.388Z"
   },
   {
    "duration": 7,
    "start_time": "2024-12-06T04:16:32.396Z"
   },
   {
    "duration": 794,
    "start_time": "2024-12-06T04:16:32.404Z"
   },
   {
    "duration": 50,
    "start_time": "2024-12-06T04:16:33.200Z"
   },
   {
    "duration": 20,
    "start_time": "2024-12-06T04:16:33.251Z"
   },
   {
    "duration": 2,
    "start_time": "2024-12-06T04:16:33.273Z"
   },
   {
    "duration": 2,
    "start_time": "2024-12-06T04:16:33.279Z"
   },
   {
    "duration": 25,
    "start_time": "2024-12-06T04:16:33.283Z"
   },
   {
    "duration": 2,
    "start_time": "2024-12-06T04:16:33.310Z"
   },
   {
    "duration": 3,
    "start_time": "2024-12-06T04:16:33.314Z"
   },
   {
    "duration": 4,
    "start_time": "2024-12-06T04:16:33.318Z"
   },
   {
    "duration": 3,
    "start_time": "2024-12-06T04:16:33.323Z"
   },
   {
    "duration": 3,
    "start_time": "2024-12-06T04:16:33.327Z"
   },
   {
    "duration": 2,
    "start_time": "2024-12-06T04:16:33.332Z"
   },
   {
    "duration": 3,
    "start_time": "2024-12-06T04:16:33.336Z"
   },
   {
    "duration": 3,
    "start_time": "2024-12-06T04:16:33.340Z"
   },
   {
    "duration": 3,
    "start_time": "2024-12-06T04:16:33.345Z"
   },
   {
    "duration": 3,
    "start_time": "2024-12-06T04:16:33.349Z"
   },
   {
    "duration": 3,
    "start_time": "2024-12-06T04:16:33.354Z"
   },
   {
    "duration": 3,
    "start_time": "2024-12-06T04:16:33.358Z"
   },
   {
    "duration": 4,
    "start_time": "2024-12-06T04:16:33.362Z"
   },
   {
    "duration": 2,
    "start_time": "2024-12-06T04:16:33.409Z"
   },
   {
    "duration": 3,
    "start_time": "2024-12-06T04:16:33.413Z"
   },
   {
    "duration": 3,
    "start_time": "2024-12-06T04:16:33.417Z"
   },
   {
    "duration": 1,
    "start_time": "2024-12-06T04:16:33.425Z"
   },
   {
    "duration": 3,
    "start_time": "2024-12-06T04:16:33.428Z"
   },
   {
    "duration": 3,
    "start_time": "2024-12-06T04:16:33.432Z"
   },
   {
    "duration": 3,
    "start_time": "2024-12-06T04:16:33.437Z"
   },
   {
    "duration": 4,
    "start_time": "2024-12-06T04:16:33.441Z"
   },
   {
    "duration": 3,
    "start_time": "2024-12-06T04:16:33.446Z"
   },
   {
    "duration": 4,
    "start_time": "2024-12-06T04:16:33.450Z"
   },
   {
    "duration": 3,
    "start_time": "2024-12-06T04:16:33.455Z"
   },
   {
    "duration": 50,
    "start_time": "2024-12-06T04:16:33.459Z"
   },
   {
    "duration": 4,
    "start_time": "2024-12-06T04:16:33.510Z"
   },
   {
    "duration": 248,
    "start_time": "2024-12-06T04:16:33.516Z"
   },
   {
    "duration": 136,
    "start_time": "2024-12-06T04:16:33.766Z"
   },
   {
    "duration": 180,
    "start_time": "2024-12-06T04:16:33.909Z"
   },
   {
    "duration": 6,
    "start_time": "2024-12-06T04:16:34.091Z"
   },
   {
    "duration": 15,
    "start_time": "2024-12-06T04:16:34.099Z"
   },
   {
    "duration": 194,
    "start_time": "2024-12-06T04:16:34.115Z"
   },
   {
    "duration": 166,
    "start_time": "2024-12-06T04:16:34.310Z"
   },
   {
    "duration": 15,
    "start_time": "2024-12-06T04:16:34.478Z"
   },
   {
    "duration": 165,
    "start_time": "2024-12-06T04:16:34.495Z"
   },
   {
    "duration": 95,
    "start_time": "2024-12-06T04:16:34.661Z"
   },
   {
    "duration": 8,
    "start_time": "2024-12-06T04:16:34.758Z"
   },
   {
    "duration": 200,
    "start_time": "2024-12-06T04:16:34.768Z"
   },
   {
    "duration": 277,
    "start_time": "2024-12-06T04:16:34.970Z"
   },
   {
    "duration": 178,
    "start_time": "2024-12-06T04:16:35.249Z"
   },
   {
    "duration": 115,
    "start_time": "2024-12-06T04:16:35.429Z"
   },
   {
    "duration": 6,
    "start_time": "2024-12-06T04:16:35.546Z"
   },
   {
    "duration": 4,
    "start_time": "2024-12-06T04:16:35.554Z"
   },
   {
    "duration": 212,
    "start_time": "2024-12-06T04:16:35.560Z"
   },
   {
    "duration": 151,
    "start_time": "2024-12-06T04:16:35.774Z"
   },
   {
    "duration": 12,
    "start_time": "2024-12-06T04:16:35.927Z"
   },
   {
    "duration": 228,
    "start_time": "2024-12-06T04:16:35.941Z"
   },
   {
    "duration": 394,
    "start_time": "2024-12-06T04:16:36.171Z"
   },
   {
    "duration": 0,
    "start_time": "2024-12-06T04:16:36.566Z"
   },
   {
    "duration": 0,
    "start_time": "2024-12-06T04:16:36.568Z"
   },
   {
    "duration": 0,
    "start_time": "2024-12-06T04:16:36.569Z"
   },
   {
    "duration": 0,
    "start_time": "2024-12-06T04:16:36.571Z"
   },
   {
    "duration": 85,
    "start_time": "2024-12-06T04:39:54.622Z"
   },
   {
    "duration": 87,
    "start_time": "2024-12-06T04:40:28.193Z"
   },
   {
    "duration": 86,
    "start_time": "2024-12-06T04:40:39.581Z"
   },
   {
    "duration": 88,
    "start_time": "2024-12-06T04:41:14.979Z"
   },
   {
    "duration": 131,
    "start_time": "2024-12-06T04:51:01.292Z"
   },
   {
    "duration": 88,
    "start_time": "2024-12-06T04:52:02.969Z"
   },
   {
    "duration": 128,
    "start_time": "2024-12-06T04:56:19.304Z"
   },
   {
    "duration": 117,
    "start_time": "2024-12-06T04:56:37.765Z"
   },
   {
    "duration": 139,
    "start_time": "2024-12-06T04:56:47.130Z"
   },
   {
    "duration": 122,
    "start_time": "2024-12-06T04:57:07.516Z"
   },
   {
    "duration": 135,
    "start_time": "2024-12-06T04:57:21.797Z"
   },
   {
    "duration": 111,
    "start_time": "2024-12-06T04:58:40.675Z"
   },
   {
    "duration": 119,
    "start_time": "2024-12-06T05:02:27.649Z"
   },
   {
    "duration": 8,
    "start_time": "2024-12-06T05:12:54.825Z"
   },
   {
    "duration": 18,
    "start_time": "2024-12-06T05:13:14.517Z"
   },
   {
    "duration": 3,
    "start_time": "2024-12-06T16:29:45.776Z"
   },
   {
    "duration": 3,
    "start_time": "2024-12-06T17:03:25.981Z"
   },
   {
    "duration": 2142,
    "start_time": "2024-12-08T19:04:05.830Z"
   },
   {
    "duration": 153,
    "start_time": "2024-12-08T19:04:07.974Z"
   },
   {
    "duration": 57,
    "start_time": "2024-12-08T19:04:08.341Z"
   },
   {
    "duration": 6,
    "start_time": "2024-12-08T19:04:09.037Z"
   },
   {
    "duration": 7,
    "start_time": "2024-12-08T19:04:09.740Z"
   },
   {
    "duration": 776,
    "start_time": "2024-12-08T19:04:10.495Z"
   },
   {
    "duration": 44,
    "start_time": "2024-12-08T19:04:12.264Z"
   },
   {
    "duration": 19,
    "start_time": "2024-12-08T19:04:20.562Z"
   },
   {
    "duration": 173,
    "start_time": "2024-12-08T19:05:32.713Z"
   },
   {
    "duration": 13,
    "start_time": "2024-12-08T19:11:11.891Z"
   },
   {
    "duration": 92,
    "start_time": "2024-12-08T19:15:35.645Z"
   },
   {
    "duration": 83,
    "start_time": "2024-12-08T19:15:40.495Z"
   },
   {
    "duration": 28,
    "start_time": "2024-12-08T19:16:04.855Z"
   },
   {
    "duration": 11,
    "start_time": "2024-12-08T19:23:59.016Z"
   },
   {
    "duration": 3,
    "start_time": "2024-12-08T19:24:03.841Z"
   },
   {
    "duration": 19,
    "start_time": "2024-12-08T19:24:40.788Z"
   },
   {
    "duration": 12,
    "start_time": "2024-12-08T19:26:05.614Z"
   },
   {
    "duration": 4,
    "start_time": "2024-12-08T20:05:52.890Z"
   },
   {
    "duration": 3,
    "start_time": "2024-12-08T20:05:59.510Z"
   },
   {
    "duration": 5,
    "start_time": "2024-12-08T20:07:51.033Z"
   },
   {
    "duration": 3,
    "start_time": "2024-12-08T20:07:53.392Z"
   },
   {
    "duration": 801,
    "start_time": "2024-12-08T20:08:36.595Z"
   },
   {
    "duration": 691,
    "start_time": "2024-12-08T20:08:39.219Z"
   },
   {
    "duration": 5,
    "start_time": "2024-12-08T20:11:50.667Z"
   },
   {
    "duration": 5,
    "start_time": "2024-12-08T20:16:37.627Z"
   },
   {
    "duration": 3,
    "start_time": "2024-12-08T20:16:41.044Z"
   },
   {
    "duration": 4,
    "start_time": "2024-12-08T20:16:53.415Z"
   },
   {
    "duration": 5,
    "start_time": "2024-12-08T20:18:04.813Z"
   },
   {
    "duration": 4,
    "start_time": "2024-12-08T20:22:08.889Z"
   },
   {
    "duration": 7,
    "start_time": "2024-12-08T20:22:17.387Z"
   },
   {
    "duration": 5,
    "start_time": "2024-12-08T20:23:05.111Z"
   },
   {
    "duration": 7,
    "start_time": "2024-12-08T20:29:38.007Z"
   },
   {
    "duration": 4,
    "start_time": "2024-12-08T20:34:38.743Z"
   },
   {
    "duration": 216,
    "start_time": "2024-12-08T20:35:56.261Z"
   },
   {
    "duration": 36,
    "start_time": "2024-12-08T20:37:03.092Z"
   },
   {
    "duration": 7,
    "start_time": "2024-12-08T20:50:43.979Z"
   },
   {
    "duration": 62,
    "start_time": "2024-12-08T20:53:29.580Z"
   },
   {
    "duration": 22,
    "start_time": "2024-12-08T20:58:57.552Z"
   },
   {
    "duration": 281,
    "start_time": "2024-12-09T00:25:32.381Z"
   },
   {
    "duration": 180,
    "start_time": "2024-12-09T00:25:35.059Z"
   },
   {
    "duration": 15,
    "start_time": "2024-12-09T00:37:57.933Z"
   },
   {
    "duration": 286,
    "start_time": "2024-12-09T00:41:38.699Z"
   },
   {
    "duration": 161,
    "start_time": "2024-12-09T00:41:41.742Z"
   },
   {
    "duration": 151,
    "start_time": "2024-12-09T00:41:54.661Z"
   },
   {
    "duration": 12,
    "start_time": "2024-12-09T00:41:56.186Z"
   },
   {
    "duration": 160,
    "start_time": "2024-12-09T00:43:47.807Z"
   },
   {
    "duration": 78,
    "start_time": "2024-12-09T00:45:34.153Z"
   },
   {
    "duration": 22,
    "start_time": "2024-12-09T00:47:20.478Z"
   },
   {
    "duration": 62,
    "start_time": "2024-12-09T00:47:41.939Z"
   },
   {
    "duration": 12,
    "start_time": "2024-12-09T00:47:47.155Z"
   },
   {
    "duration": 3,
    "start_time": "2024-12-09T00:48:04.680Z"
   },
   {
    "duration": 208,
    "start_time": "2024-12-09T00:48:35.197Z"
   },
   {
    "duration": 14,
    "start_time": "2024-12-09T00:51:51.371Z"
   },
   {
    "duration": 64,
    "start_time": "2024-12-09T00:51:59.872Z"
   },
   {
    "duration": 6,
    "start_time": "2024-12-09T00:53:57.259Z"
   },
   {
    "duration": 6,
    "start_time": "2024-12-09T00:54:11.687Z"
   },
   {
    "duration": 186,
    "start_time": "2024-12-09T00:54:38.331Z"
   },
   {
    "duration": 754,
    "start_time": "2024-12-09T01:05:38.666Z"
   },
   {
    "duration": 165,
    "start_time": "2024-12-09T01:05:56.286Z"
   },
   {
    "duration": 161,
    "start_time": "2024-12-09T14:33:12.910Z"
   },
   {
    "duration": 2100,
    "start_time": "2024-12-09T14:33:28.765Z"
   },
   {
    "duration": 150,
    "start_time": "2024-12-09T14:33:30.867Z"
   },
   {
    "duration": 62,
    "start_time": "2024-12-09T14:33:31.019Z"
   },
   {
    "duration": 7,
    "start_time": "2024-12-09T14:33:31.083Z"
   },
   {
    "duration": 7,
    "start_time": "2024-12-09T14:33:31.092Z"
   },
   {
    "duration": 813,
    "start_time": "2024-12-09T14:33:31.100Z"
   },
   {
    "duration": 44,
    "start_time": "2024-12-09T14:33:31.915Z"
   },
   {
    "duration": 18,
    "start_time": "2024-12-09T14:33:31.962Z"
   },
   {
    "duration": 186,
    "start_time": "2024-12-09T14:33:31.982Z"
   },
   {
    "duration": 8,
    "start_time": "2024-12-09T14:33:32.170Z"
   },
   {
    "duration": 112,
    "start_time": "2024-12-09T14:33:32.180Z"
   },
   {
    "duration": 93,
    "start_time": "2024-12-09T14:33:32.294Z"
   },
   {
    "duration": 38,
    "start_time": "2024-12-09T14:33:32.389Z"
   },
   {
    "duration": 16,
    "start_time": "2024-12-09T14:33:32.432Z"
   },
   {
    "duration": 7,
    "start_time": "2024-12-09T14:33:32.449Z"
   },
   {
    "duration": 19,
    "start_time": "2024-12-09T14:33:32.457Z"
   },
   {
    "duration": 33,
    "start_time": "2024-12-09T14:33:32.478Z"
   },
   {
    "duration": 4,
    "start_time": "2024-12-09T14:33:32.513Z"
   },
   {
    "duration": 3,
    "start_time": "2024-12-09T14:33:32.519Z"
   },
   {
    "duration": 5,
    "start_time": "2024-12-09T14:33:32.523Z"
   },
   {
    "duration": 3,
    "start_time": "2024-12-09T14:33:32.531Z"
   },
   {
    "duration": 780,
    "start_time": "2024-12-09T14:33:32.536Z"
   },
   {
    "duration": 664,
    "start_time": "2024-12-09T14:33:33.318Z"
   },
   {
    "duration": 5,
    "start_time": "2024-12-09T14:33:33.984Z"
   },
   {
    "duration": 19,
    "start_time": "2024-12-09T14:33:33.991Z"
   },
   {
    "duration": 4,
    "start_time": "2024-12-09T14:33:34.012Z"
   },
   {
    "duration": 11,
    "start_time": "2024-12-09T14:33:34.017Z"
   },
   {
    "duration": 6,
    "start_time": "2024-12-09T14:33:34.030Z"
   },
   {
    "duration": 9,
    "start_time": "2024-12-09T14:33:34.037Z"
   },
   {
    "duration": 7,
    "start_time": "2024-12-09T14:33:34.048Z"
   },
   {
    "duration": 3,
    "start_time": "2024-12-09T14:33:34.057Z"
   },
   {
    "duration": 7,
    "start_time": "2024-12-09T14:33:34.062Z"
   },
   {
    "duration": 55,
    "start_time": "2024-12-09T14:33:34.070Z"
   },
   {
    "duration": 7,
    "start_time": "2024-12-09T14:33:34.127Z"
   },
   {
    "duration": 79,
    "start_time": "2024-12-09T14:33:34.136Z"
   },
   {
    "duration": 22,
    "start_time": "2024-12-09T14:33:34.217Z"
   },
   {
    "duration": 3,
    "start_time": "2024-12-09T14:33:34.241Z"
   },
   {
    "duration": 6,
    "start_time": "2024-12-09T14:33:34.246Z"
   },
   {
    "duration": 273,
    "start_time": "2024-12-09T14:33:34.254Z"
   },
   {
    "duration": 135,
    "start_time": "2024-12-09T14:33:34.529Z"
   },
   {
    "duration": 174,
    "start_time": "2024-12-09T14:33:34.669Z"
   },
   {
    "duration": 7,
    "start_time": "2024-12-09T14:33:34.845Z"
   },
   {
    "duration": 6,
    "start_time": "2024-12-09T14:33:34.854Z"
   },
   {
    "duration": 204,
    "start_time": "2024-12-09T14:33:34.862Z"
   },
   {
    "duration": 173,
    "start_time": "2024-12-09T14:33:35.069Z"
   },
   {
    "duration": 14,
    "start_time": "2024-12-09T14:33:35.243Z"
   },
   {
    "duration": 168,
    "start_time": "2024-12-09T14:33:35.258Z"
   },
   {
    "duration": 83,
    "start_time": "2024-12-09T14:33:35.428Z"
   },
   {
    "duration": 9,
    "start_time": "2024-12-09T14:33:35.512Z"
   },
   {
    "duration": 200,
    "start_time": "2024-12-09T14:33:35.522Z"
   },
   {
    "duration": 260,
    "start_time": "2024-12-09T14:33:35.724Z"
   },
   {
    "duration": 165,
    "start_time": "2024-12-09T14:33:35.986Z"
   },
   {
    "duration": 155,
    "start_time": "2024-12-09T14:33:36.153Z"
   },
   {
    "duration": 6,
    "start_time": "2024-12-09T14:33:36.309Z"
   },
   {
    "duration": 3,
    "start_time": "2024-12-09T14:33:36.317Z"
   },
   {
    "duration": 215,
    "start_time": "2024-12-09T14:33:36.323Z"
   },
   {
    "duration": 135,
    "start_time": "2024-12-09T14:33:36.540Z"
   },
   {
    "duration": 12,
    "start_time": "2024-12-09T14:33:36.677Z"
   },
   {
    "duration": 219,
    "start_time": "2024-12-09T14:33:36.690Z"
   },
   {
    "duration": 704,
    "start_time": "2024-12-09T14:33:36.911Z"
   },
   {
    "duration": 175,
    "start_time": "2024-12-09T14:33:37.616Z"
   },
   {
    "duration": 31,
    "start_time": "2024-12-09T14:33:37.793Z"
   },
   {
    "duration": 8,
    "start_time": "2024-12-09T14:33:37.825Z"
   },
   {
    "duration": 263,
    "start_time": "2024-12-09T14:33:37.834Z"
   },
   {
    "duration": 8,
    "start_time": "2024-12-10T00:59:39.822Z"
   }
  ],
  "colab": {
   "provenance": []
  },
  "kernelspec": {
   "display_name": "Python 3",
   "language": "python",
   "name": "python3"
  },
  "language_info": {
   "codemirror_mode": {
    "name": "ipython",
    "version": 3
   },
   "file_extension": ".py",
   "mimetype": "text/x-python",
   "name": "python",
   "nbconvert_exporter": "python",
   "pygments_lexer": "ipython3",
   "version": "3.13.1"
  },
  "toc": {
   "base_numbering": 1,
   "nav_menu": {},
   "number_sections": true,
   "sideBar": true,
   "skip_h1_title": true,
   "title_cell": "Table of Contents",
   "title_sidebar": "Contents",
   "toc_cell": false,
   "toc_position": {},
   "toc_section_display": true,
   "toc_window_display": false
  }
 },
 "nbformat": 4,
 "nbformat_minor": 5
}
